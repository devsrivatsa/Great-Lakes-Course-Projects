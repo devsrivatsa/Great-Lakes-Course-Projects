{
 "cells": [
  {
   "cell_type": "markdown",
   "metadata": {},
   "source": [
    "<h1>Building a Recommender system for Amazon based on customer's previous ratings for other similar products</h1>"
   ]
  },
  {
   "cell_type": "markdown",
   "metadata": {},
   "source": [
    "<h2>Importing Dependencies</h2>"
   ]
  },
  {
   "cell_type": "code",
   "execution_count": 1,
   "metadata": {},
   "outputs": [],
   "source": [
    "import pandas as pd\n",
    "import numpy as np\n",
    "from matplotlib import pyplot as plt\n",
    "import seaborn as sns"
   ]
  },
  {
   "cell_type": "code",
   "execution_count": 8,
   "metadata": {},
   "outputs": [],
   "source": [
    "from surprise import KNNWithMeans\n",
    "from surprise import Dataset\n",
    "from surprise import Reader\n",
    "from surprise import accuracy\n",
    "from surprise.model_selection import train_test_split"
   ]
  },
  {
   "cell_type": "markdown",
   "metadata": {},
   "source": [
    "<h2>Reading data</h2>"
   ]
  },
  {
   "cell_type": "code",
   "execution_count": 9,
   "metadata": {},
   "outputs": [
    {
     "data": {
      "text/html": [
       "<div>\n",
       "<style scoped>\n",
       "    .dataframe tbody tr th:only-of-type {\n",
       "        vertical-align: middle;\n",
       "    }\n",
       "\n",
       "    .dataframe tbody tr th {\n",
       "        vertical-align: top;\n",
       "    }\n",
       "\n",
       "    .dataframe thead th {\n",
       "        text-align: right;\n",
       "    }\n",
       "</style>\n",
       "<table border=\"1\" class=\"dataframe\">\n",
       "  <thead>\n",
       "    <tr style=\"text-align: right;\">\n",
       "      <th></th>\n",
       "      <th>userId</th>\n",
       "      <th>productId</th>\n",
       "      <th>Rating</th>\n",
       "      <th>timestamp</th>\n",
       "    </tr>\n",
       "  </thead>\n",
       "  <tbody>\n",
       "    <tr>\n",
       "      <td>0</td>\n",
       "      <td>A2CX7LUOHB2NDG</td>\n",
       "      <td>0321732944</td>\n",
       "      <td>5.0</td>\n",
       "      <td>1341100800</td>\n",
       "    </tr>\n",
       "    <tr>\n",
       "      <td>1</td>\n",
       "      <td>A2NWSAGRHCP8N5</td>\n",
       "      <td>0439886341</td>\n",
       "      <td>1.0</td>\n",
       "      <td>1367193600</td>\n",
       "    </tr>\n",
       "    <tr>\n",
       "      <td>2</td>\n",
       "      <td>A2WNBOD3WNDNKT</td>\n",
       "      <td>0439886341</td>\n",
       "      <td>3.0</td>\n",
       "      <td>1374451200</td>\n",
       "    </tr>\n",
       "    <tr>\n",
       "      <td>3</td>\n",
       "      <td>A1GI0U4ZRJA8WN</td>\n",
       "      <td>0439886341</td>\n",
       "      <td>1.0</td>\n",
       "      <td>1334707200</td>\n",
       "    </tr>\n",
       "    <tr>\n",
       "      <td>4</td>\n",
       "      <td>A1QGNMC6O1VW39</td>\n",
       "      <td>0511189877</td>\n",
       "      <td>5.0</td>\n",
       "      <td>1397433600</td>\n",
       "    </tr>\n",
       "  </tbody>\n",
       "</table>\n",
       "</div>"
      ],
      "text/plain": [
       "           userId   productId  Rating   timestamp\n",
       "0  A2CX7LUOHB2NDG  0321732944     5.0  1341100800\n",
       "1  A2NWSAGRHCP8N5  0439886341     1.0  1367193600\n",
       "2  A2WNBOD3WNDNKT  0439886341     3.0  1374451200\n",
       "3  A1GI0U4ZRJA8WN  0439886341     1.0  1334707200\n",
       "4  A1QGNMC6O1VW39  0511189877     5.0  1397433600"
      ]
     },
     "execution_count": 9,
     "metadata": {},
     "output_type": "execute_result"
    }
   ],
   "source": [
    "data = pd.read_csv(\"C:\\\\Users\\\\Srivatsa\\\\Desktop\\\\Great_Lakes\\\\Projects\\\\Recommender Systems\\\\ratings_Electronics.csv\")\n",
    "data.columns=['userId','productId','Rating','timestamp']\n",
    "data.head()"
   ]
  },
  {
   "cell_type": "code",
   "execution_count": 10,
   "metadata": {},
   "outputs": [],
   "source": [
    "data.drop('timestamp', axis=1, inplace=True)"
   ]
  },
  {
   "cell_type": "code",
   "execution_count": 11,
   "metadata": {},
   "outputs": [
    {
     "data": {
      "text/html": [
       "<div>\n",
       "<style scoped>\n",
       "    .dataframe tbody tr th:only-of-type {\n",
       "        vertical-align: middle;\n",
       "    }\n",
       "\n",
       "    .dataframe tbody tr th {\n",
       "        vertical-align: top;\n",
       "    }\n",
       "\n",
       "    .dataframe thead th {\n",
       "        text-align: right;\n",
       "    }\n",
       "</style>\n",
       "<table border=\"1\" class=\"dataframe\">\n",
       "  <thead>\n",
       "    <tr style=\"text-align: right;\">\n",
       "      <th></th>\n",
       "      <th>userId</th>\n",
       "      <th>productId</th>\n",
       "      <th>Rating</th>\n",
       "    </tr>\n",
       "  </thead>\n",
       "  <tbody>\n",
       "    <tr>\n",
       "      <td>0</td>\n",
       "      <td>A2CX7LUOHB2NDG</td>\n",
       "      <td>0321732944</td>\n",
       "      <td>5.0</td>\n",
       "    </tr>\n",
       "    <tr>\n",
       "      <td>1</td>\n",
       "      <td>A2NWSAGRHCP8N5</td>\n",
       "      <td>0439886341</td>\n",
       "      <td>1.0</td>\n",
       "    </tr>\n",
       "    <tr>\n",
       "      <td>2</td>\n",
       "      <td>A2WNBOD3WNDNKT</td>\n",
       "      <td>0439886341</td>\n",
       "      <td>3.0</td>\n",
       "    </tr>\n",
       "    <tr>\n",
       "      <td>3</td>\n",
       "      <td>A1GI0U4ZRJA8WN</td>\n",
       "      <td>0439886341</td>\n",
       "      <td>1.0</td>\n",
       "    </tr>\n",
       "    <tr>\n",
       "      <td>4</td>\n",
       "      <td>A1QGNMC6O1VW39</td>\n",
       "      <td>0511189877</td>\n",
       "      <td>5.0</td>\n",
       "    </tr>\n",
       "  </tbody>\n",
       "</table>\n",
       "</div>"
      ],
      "text/plain": [
       "           userId   productId  Rating\n",
       "0  A2CX7LUOHB2NDG  0321732944     5.0\n",
       "1  A2NWSAGRHCP8N5  0439886341     1.0\n",
       "2  A2WNBOD3WNDNKT  0439886341     3.0\n",
       "3  A1GI0U4ZRJA8WN  0439886341     1.0\n",
       "4  A1QGNMC6O1VW39  0511189877     5.0"
      ]
     },
     "execution_count": 11,
     "metadata": {},
     "output_type": "execute_result"
    }
   ],
   "source": [
    "data.head()"
   ]
  },
  {
   "cell_type": "markdown",
   "metadata": {},
   "source": [
    "<h2>Basic EDA</h2>"
   ]
  },
  {
   "cell_type": "code",
   "execution_count": 12,
   "metadata": {},
   "outputs": [
    {
     "name": "stdout",
     "output_type": "stream",
     "text": [
      "<class 'pandas.core.frame.DataFrame'>\n",
      "RangeIndex: 7824481 entries, 0 to 7824480\n",
      "Data columns (total 3 columns):\n",
      "userId       object\n",
      "productId    object\n",
      "Rating       float64\n",
      "dtypes: float64(1), object(2)\n",
      "memory usage: 179.1+ MB\n"
     ]
    }
   ],
   "source": [
    "data.info()"
   ]
  },
  {
   "cell_type": "code",
   "execution_count": 13,
   "metadata": {},
   "outputs": [
    {
     "data": {
      "text/plain": [
       "userId       0\n",
       "productId    0\n",
       "Rating       0\n",
       "dtype: int64"
      ]
     },
     "execution_count": 13,
     "metadata": {},
     "output_type": "execute_result"
    }
   ],
   "source": [
    "data.isnull().sum()"
   ]
  },
  {
   "cell_type": "code",
   "execution_count": 14,
   "metadata": {},
   "outputs": [],
   "source": [
    "data_groupedByItem = data.groupby('productId').count()"
   ]
  },
  {
   "cell_type": "code",
   "execution_count": 15,
   "metadata": {},
   "outputs": [
    {
     "data": {
      "text/html": [
       "<div>\n",
       "<style scoped>\n",
       "    .dataframe tbody tr th:only-of-type {\n",
       "        vertical-align: middle;\n",
       "    }\n",
       "\n",
       "    .dataframe tbody tr th {\n",
       "        vertical-align: top;\n",
       "    }\n",
       "\n",
       "    .dataframe thead th {\n",
       "        text-align: right;\n",
       "    }\n",
       "</style>\n",
       "<table border=\"1\" class=\"dataframe\">\n",
       "  <thead>\n",
       "    <tr style=\"text-align: right;\">\n",
       "      <th></th>\n",
       "      <th>userId</th>\n",
       "      <th>Rating</th>\n",
       "    </tr>\n",
       "    <tr>\n",
       "      <th>productId</th>\n",
       "      <th></th>\n",
       "      <th></th>\n",
       "    </tr>\n",
       "  </thead>\n",
       "  <tbody>\n",
       "    <tr>\n",
       "      <td>0321732944</td>\n",
       "      <td>1</td>\n",
       "      <td>1</td>\n",
       "    </tr>\n",
       "    <tr>\n",
       "      <td>0439886341</td>\n",
       "      <td>3</td>\n",
       "      <td>3</td>\n",
       "    </tr>\n",
       "    <tr>\n",
       "      <td>0511189877</td>\n",
       "      <td>6</td>\n",
       "      <td>6</td>\n",
       "    </tr>\n",
       "    <tr>\n",
       "      <td>0528881469</td>\n",
       "      <td>27</td>\n",
       "      <td>27</td>\n",
       "    </tr>\n",
       "    <tr>\n",
       "      <td>0558835155</td>\n",
       "      <td>1</td>\n",
       "      <td>1</td>\n",
       "    </tr>\n",
       "  </tbody>\n",
       "</table>\n",
       "</div>"
      ],
      "text/plain": [
       "            userId  Rating\n",
       "productId                 \n",
       "0321732944       1       1\n",
       "0439886341       3       3\n",
       "0511189877       6       6\n",
       "0528881469      27      27\n",
       "0558835155       1       1"
      ]
     },
     "execution_count": 15,
     "metadata": {},
     "output_type": "execute_result"
    }
   ],
   "source": [
    "data_groupedByItem.head()"
   ]
  },
  {
   "cell_type": "code",
   "execution_count": 16,
   "metadata": {},
   "outputs": [
    {
     "data": {
      "text/plain": [
       "<matplotlib.axes._subplots.AxesSubplot at 0x1a20a7de4a8>"
      ]
     },
     "execution_count": 16,
     "metadata": {},
     "output_type": "execute_result"
    },
    {
     "data": {
      "image/png": "[encoded data removed]",
      "text/plain": [
       "<Figure size 432x288 with 1 Axes>"
      ]
     },
     "metadata": {
      "needs_background": "light"
     },
     "output_type": "display_data"
    }
   ],
   "source": [
    "sns.distplot(data_groupedByItem.Rating)"
   ]
  },
  {
   "cell_type": "markdown",
   "metadata": {},
   "source": [
    "We see that many of the items did not receive any rating from users."
   ]
  },
  {
   "cell_type": "code",
   "execution_count": 18,
   "metadata": {},
   "outputs": [],
   "source": [
    "data_groupedByItem_filtered = data_groupedByItem.loc[data_groupedByItem.Rating>=50]"
   ]
  },
  {
   "cell_type": "code",
   "execution_count": 19,
   "metadata": {},
   "outputs": [
    {
     "data": {
      "text/plain": [
       "(26226, 2)"
      ]
     },
     "execution_count": 19,
     "metadata": {},
     "output_type": "execute_result"
    }
   ],
   "source": [
    "data_groupedByItem_filtered.shape"
   ]
  },
  {
   "cell_type": "code",
   "execution_count": 20,
   "metadata": {},
   "outputs": [
    {
     "data": {
      "text/html": [
       "<div>\n",
       "<style scoped>\n",
       "    .dataframe tbody tr th:only-of-type {\n",
       "        vertical-align: middle;\n",
       "    }\n",
       "\n",
       "    .dataframe tbody tr th {\n",
       "        vertical-align: top;\n",
       "    }\n",
       "\n",
       "    .dataframe thead th {\n",
       "        text-align: right;\n",
       "    }\n",
       "</style>\n",
       "<table border=\"1\" class=\"dataframe\">\n",
       "  <thead>\n",
       "    <tr style=\"text-align: right;\">\n",
       "      <th></th>\n",
       "      <th>userId</th>\n",
       "      <th>Rating</th>\n",
       "    </tr>\n",
       "    <tr>\n",
       "      <th>productId</th>\n",
       "      <th></th>\n",
       "      <th></th>\n",
       "    </tr>\n",
       "  </thead>\n",
       "  <tbody>\n",
       "    <tr>\n",
       "      <td>0972683275</td>\n",
       "      <td>1051</td>\n",
       "      <td>1051</td>\n",
       "    </tr>\n",
       "    <tr>\n",
       "      <td>1400501466</td>\n",
       "      <td>250</td>\n",
       "      <td>250</td>\n",
       "    </tr>\n",
       "    <tr>\n",
       "      <td>1400501520</td>\n",
       "      <td>82</td>\n",
       "      <td>82</td>\n",
       "    </tr>\n",
       "    <tr>\n",
       "      <td>1400501776</td>\n",
       "      <td>139</td>\n",
       "      <td>139</td>\n",
       "    </tr>\n",
       "    <tr>\n",
       "      <td>1400532620</td>\n",
       "      <td>171</td>\n",
       "      <td>171</td>\n",
       "    </tr>\n",
       "  </tbody>\n",
       "</table>\n",
       "</div>"
      ],
      "text/plain": [
       "            userId  Rating\n",
       "productId                 \n",
       "0972683275    1051    1051\n",
       "1400501466     250     250\n",
       "1400501520      82      82\n",
       "1400501776     139     139\n",
       "1400532620     171     171"
      ]
     },
     "execution_count": 20,
     "metadata": {},
     "output_type": "execute_result"
    }
   ],
   "source": [
    "data_groupedByItem_filtered.head()"
   ]
  },
  {
   "cell_type": "code",
   "execution_count": 21,
   "metadata": {},
   "outputs": [
    {
     "data": {
      "text/plain": [
       "<matplotlib.axes._subplots.AxesSubplot at 0x1a19a29b780>"
      ]
     },
     "execution_count": 21,
     "metadata": {},
     "output_type": "execute_result"
    },
    {
     "data": {
      "image/png": "[encoded data removed]",
      "text/plain": [
       "<Figure size 432x288 with 1 Axes>"
      ]
     },
     "metadata": {
      "needs_background": "light"
     },
     "output_type": "display_data"
    }
   ],
   "source": [
    "sns.distplot(data_groupedByItem_filtered.Rating)"
   ]
  },
  {
   "cell_type": "markdown",
   "metadata": {},
   "source": [
    "<b>Now, we want to filter out all the products which were rated less than 50 times</b>"
   ]
  },
  {
   "cell_type": "code",
   "execution_count": 22,
   "metadata": {},
   "outputs": [],
   "source": [
    "data_filtered_item = data.merge(data_groupedByItem_filtered, on='productId')\n",
    "data_filtered_item.drop(['userId_y','Rating_y'], axis=1, inplace=True)\n",
    "data_filtered_item.columns = ['userId','productId','Rating']"
   ]
  },
  {
   "cell_type": "code",
   "execution_count": 23,
   "metadata": {},
   "outputs": [
    {
     "data": {
      "text/html": [
       "<div>\n",
       "<style scoped>\n",
       "    .dataframe tbody tr th:only-of-type {\n",
       "        vertical-align: middle;\n",
       "    }\n",
       "\n",
       "    .dataframe tbody tr th {\n",
       "        vertical-align: top;\n",
       "    }\n",
       "\n",
       "    .dataframe thead th {\n",
       "        text-align: right;\n",
       "    }\n",
       "</style>\n",
       "<table border=\"1\" class=\"dataframe\">\n",
       "  <thead>\n",
       "    <tr style=\"text-align: right;\">\n",
       "      <th></th>\n",
       "      <th>userId</th>\n",
       "      <th>productId</th>\n",
       "      <th>Rating</th>\n",
       "    </tr>\n",
       "  </thead>\n",
       "  <tbody>\n",
       "    <tr>\n",
       "      <td>0</td>\n",
       "      <td>A1BKC6B7YHYTVV</td>\n",
       "      <td>0972683275</td>\n",
       "      <td>4.0</td>\n",
       "    </tr>\n",
       "    <tr>\n",
       "      <td>1</td>\n",
       "      <td>AWVFSIB42LHKJ</td>\n",
       "      <td>0972683275</td>\n",
       "      <td>4.0</td>\n",
       "    </tr>\n",
       "    <tr>\n",
       "      <td>2</td>\n",
       "      <td>A36MQBNADRH8YY</td>\n",
       "      <td>0972683275</td>\n",
       "      <td>5.0</td>\n",
       "    </tr>\n",
       "    <tr>\n",
       "      <td>3</td>\n",
       "      <td>A3SRXMPLAEZ6DP</td>\n",
       "      <td>0972683275</td>\n",
       "      <td>4.0</td>\n",
       "    </tr>\n",
       "    <tr>\n",
       "      <td>4</td>\n",
       "      <td>A20XXTXWF2TCPY</td>\n",
       "      <td>0972683275</td>\n",
       "      <td>5.0</td>\n",
       "    </tr>\n",
       "  </tbody>\n",
       "</table>\n",
       "</div>"
      ],
      "text/plain": [
       "           userId   productId  Rating\n",
       "0  A1BKC6B7YHYTVV  0972683275     4.0\n",
       "1   AWVFSIB42LHKJ  0972683275     4.0\n",
       "2  A36MQBNADRH8YY  0972683275     5.0\n",
       "3  A3SRXMPLAEZ6DP  0972683275     4.0\n",
       "4  A20XXTXWF2TCPY  0972683275     5.0"
      ]
     },
     "execution_count": 23,
     "metadata": {},
     "output_type": "execute_result"
    }
   ],
   "source": [
    "data_filtered_item.head()"
   ]
  },
  {
   "cell_type": "markdown",
   "metadata": {},
   "source": [
    "<b>Filtering out all users who have not given at leadt 50 ratings as the origiinal dataset is very sparse in the sence that there are highly rated movies which were rated only by 1 user</b>"
   ]
  },
  {
   "cell_type": "code",
   "execution_count": 24,
   "metadata": {},
   "outputs": [],
   "source": [
    "data_groupedByUser = data_filtered_item.groupby('userId').count()"
   ]
  },
  {
   "cell_type": "code",
   "execution_count": 25,
   "metadata": {},
   "outputs": [
    {
     "data": {
      "text/html": [
       "<div>\n",
       "<style scoped>\n",
       "    .dataframe tbody tr th:only-of-type {\n",
       "        vertical-align: middle;\n",
       "    }\n",
       "\n",
       "    .dataframe tbody tr th {\n",
       "        vertical-align: top;\n",
       "    }\n",
       "\n",
       "    .dataframe thead th {\n",
       "        text-align: right;\n",
       "    }\n",
       "</style>\n",
       "<table border=\"1\" class=\"dataframe\">\n",
       "  <thead>\n",
       "    <tr style=\"text-align: right;\">\n",
       "      <th></th>\n",
       "      <th>productId</th>\n",
       "      <th>Rating</th>\n",
       "    </tr>\n",
       "    <tr>\n",
       "      <th>userId</th>\n",
       "      <th></th>\n",
       "      <th></th>\n",
       "    </tr>\n",
       "  </thead>\n",
       "  <tbody>\n",
       "    <tr>\n",
       "      <td>A00000262KYZUE4J55XGL</td>\n",
       "      <td>1</td>\n",
       "      <td>1</td>\n",
       "    </tr>\n",
       "    <tr>\n",
       "      <td>A00009661LC9LQPGKJ24G</td>\n",
       "      <td>1</td>\n",
       "      <td>1</td>\n",
       "    </tr>\n",
       "    <tr>\n",
       "      <td>A00010809P09NUU6ZP6H</td>\n",
       "      <td>1</td>\n",
       "      <td>1</td>\n",
       "    </tr>\n",
       "    <tr>\n",
       "      <td>A000145014WOTZJ5NSKOR</td>\n",
       "      <td>1</td>\n",
       "      <td>1</td>\n",
       "    </tr>\n",
       "    <tr>\n",
       "      <td>A00015222LZ55IJSVL5IX</td>\n",
       "      <td>1</td>\n",
       "      <td>1</td>\n",
       "    </tr>\n",
       "  </tbody>\n",
       "</table>\n",
       "</div>"
      ],
      "text/plain": [
       "                       productId  Rating\n",
       "userId                                  \n",
       "A00000262KYZUE4J55XGL          1       1\n",
       "A00009661LC9LQPGKJ24G          1       1\n",
       "A00010809P09NUU6ZP6H           1       1\n",
       "A000145014WOTZJ5NSKOR          1       1\n",
       "A00015222LZ55IJSVL5IX          1       1"
      ]
     },
     "execution_count": 25,
     "metadata": {},
     "output_type": "execute_result"
    }
   ],
   "source": [
    "data_groupedByUser.head()"
   ]
  },
  {
   "cell_type": "code",
   "execution_count": 26,
   "metadata": {},
   "outputs": [
    {
     "data": {
      "text/plain": [
       "<matplotlib.axes._subplots.AxesSubplot at 0x1a19a448668>"
      ]
     },
     "execution_count": 26,
     "metadata": {},
     "output_type": "execute_result"
    },
    {
     "data": {
      "image/png": "[encoded data removed]",
      "text/plain": [
       "<Figure size 432x288 with 1 Axes>"
      ]
     },
     "metadata": {
      "needs_background": "light"
     },
     "output_type": "display_data"
    }
   ],
   "source": [
    "sns.distplot(data_groupedByUser.Rating)"
   ]
  },
  {
   "cell_type": "code",
   "execution_count": 30,
   "metadata": {},
   "outputs": [],
   "source": [
    "data_groupedByUser_filtered = data_groupedByUser.loc[data_groupedByUser.Rating>=50]"
   ]
  },
  {
   "cell_type": "code",
   "execution_count": 31,
   "metadata": {},
   "outputs": [
    {
     "data": {
      "text/plain": [
       "(570, 2)"
      ]
     },
     "execution_count": 31,
     "metadata": {},
     "output_type": "execute_result"
    }
   ],
   "source": [
    "data_groupedByUser_filtered.shape"
   ]
  },
  {
   "cell_type": "code",
   "execution_count": 32,
   "metadata": {},
   "outputs": [
    {
     "data": {
      "text/html": [
       "<div>\n",
       "<style scoped>\n",
       "    .dataframe tbody tr th:only-of-type {\n",
       "        vertical-align: middle;\n",
       "    }\n",
       "\n",
       "    .dataframe tbody tr th {\n",
       "        vertical-align: top;\n",
       "    }\n",
       "\n",
       "    .dataframe thead th {\n",
       "        text-align: right;\n",
       "    }\n",
       "</style>\n",
       "<table border=\"1\" class=\"dataframe\">\n",
       "  <thead>\n",
       "    <tr style=\"text-align: right;\">\n",
       "      <th></th>\n",
       "      <th>productId</th>\n",
       "      <th>Rating</th>\n",
       "    </tr>\n",
       "    <tr>\n",
       "      <th>userId</th>\n",
       "      <th></th>\n",
       "      <th></th>\n",
       "    </tr>\n",
       "  </thead>\n",
       "  <tbody>\n",
       "    <tr>\n",
       "      <th>A100UD67AHFODS</th>\n",
       "      <td>88</td>\n",
       "      <td>88</td>\n",
       "    </tr>\n",
       "    <tr>\n",
       "      <th>A100WO06OQR8BQ</th>\n",
       "      <td>99</td>\n",
       "      <td>99</td>\n",
       "    </tr>\n",
       "    <tr>\n",
       "      <th>A105TOJ6LTVMBG</th>\n",
       "      <td>51</td>\n",
       "      <td>51</td>\n",
       "    </tr>\n",
       "    <tr>\n",
       "      <th>A10NMELR4KX0J6</th>\n",
       "      <td>60</td>\n",
       "      <td>60</td>\n",
       "    </tr>\n",
       "    <tr>\n",
       "      <th>A10O7THJ2O20AG</th>\n",
       "      <td>62</td>\n",
       "      <td>62</td>\n",
       "    </tr>\n",
       "  </tbody>\n",
       "</table>\n",
       "</div>"
      ],
      "text/plain": [
       "                productId  Rating\n",
       "userId                           \n",
       "A100UD67AHFODS         88      88\n",
       "A100WO06OQR8BQ         99      99\n",
       "A105TOJ6LTVMBG         51      51\n",
       "A10NMELR4KX0J6         60      60\n",
       "A10O7THJ2O20AG         62      62"
      ]
     },
     "execution_count": 32,
     "metadata": {},
     "output_type": "execute_result"
    }
   ],
   "source": [
    "data_groupedByUser_filtered.head()"
   ]
  },
  {
   "cell_type": "code",
   "execution_count": 37,
   "metadata": {},
   "outputs": [],
   "source": [
    "data_filtered_Item_User = data_filtered_item.merge(data_groupedByUser_filtered, on='userId')\n",
    "data_filtered_Item_User.drop(['productId_y','Rating_y'], axis=1, inplace=True)\n",
    "data_filtered_Item_User.columns = ['userId','productId','Rating']"
   ]
  },
  {
   "cell_type": "code",
   "execution_count": 38,
   "metadata": {},
   "outputs": [
    {
     "data": {
      "text/html": [
       "<div>\n",
       "<style scoped>\n",
       "    .dataframe tbody tr th:only-of-type {\n",
       "        vertical-align: middle;\n",
       "    }\n",
       "\n",
       "    .dataframe tbody tr th {\n",
       "        vertical-align: top;\n",
       "    }\n",
       "\n",
       "    .dataframe thead th {\n",
       "        text-align: right;\n",
       "    }\n",
       "</style>\n",
       "<table border=\"1\" class=\"dataframe\">\n",
       "  <thead>\n",
       "    <tr style=\"text-align: right;\">\n",
       "      <th></th>\n",
       "      <th>userId</th>\n",
       "      <th>productId</th>\n",
       "      <th>Rating</th>\n",
       "    </tr>\n",
       "  </thead>\n",
       "  <tbody>\n",
       "    <tr>\n",
       "      <th>0</th>\n",
       "      <td>A3TAS1AG6FMBQW</td>\n",
       "      <td>0972683275</td>\n",
       "      <td>5.0</td>\n",
       "    </tr>\n",
       "    <tr>\n",
       "      <th>1</th>\n",
       "      <td>A3TAS1AG6FMBQW</td>\n",
       "      <td>B00000K13A</td>\n",
       "      <td>5.0</td>\n",
       "    </tr>\n",
       "    <tr>\n",
       "      <th>2</th>\n",
       "      <td>A3TAS1AG6FMBQW</td>\n",
       "      <td>B00002EQCW</td>\n",
       "      <td>5.0</td>\n",
       "    </tr>\n",
       "    <tr>\n",
       "      <th>3</th>\n",
       "      <td>A3TAS1AG6FMBQW</td>\n",
       "      <td>B0001OHH0Q</td>\n",
       "      <td>4.0</td>\n",
       "    </tr>\n",
       "    <tr>\n",
       "      <th>4</th>\n",
       "      <td>A3TAS1AG6FMBQW</td>\n",
       "      <td>B0001VGFKW</td>\n",
       "      <td>5.0</td>\n",
       "    </tr>\n",
       "  </tbody>\n",
       "</table>\n",
       "</div>"
      ],
      "text/plain": [
       "           userId   productId  Rating\n",
       "0  A3TAS1AG6FMBQW  0972683275     5.0\n",
       "1  A3TAS1AG6FMBQW  B00000K13A     5.0\n",
       "2  A3TAS1AG6FMBQW  B00002EQCW     5.0\n",
       "3  A3TAS1AG6FMBQW  B0001OHH0Q     4.0\n",
       "4  A3TAS1AG6FMBQW  B0001VGFKW     5.0"
      ]
     },
     "execution_count": 38,
     "metadata": {},
     "output_type": "execute_result"
    }
   ],
   "source": [
    "data_filtered_Item_User.head()"
   ]
  },
  {
   "cell_type": "code",
   "execution_count": 40,
   "metadata": {},
   "outputs": [
    {
     "data": {
      "text/plain": [
       "(43506, 3)"
      ]
     },
     "execution_count": 40,
     "metadata": {},
     "output_type": "execute_result"
    }
   ],
   "source": [
    "data_filtered_Item_User.shape"
   ]
  },
  {
   "cell_type": "code",
   "execution_count": 41,
   "metadata": {},
   "outputs": [
    {
     "data": {
      "text/plain": [
       "<matplotlib.axes._subplots.AxesSubplot at 0x1ac810f4d30>"
      ]
     },
     "execution_count": 41,
     "metadata": {},
     "output_type": "execute_result"
    },
    {
     "data": {
      "image/png": "[encoded data removed]",
      "text/plain": [
       "<Figure size 432x288 with 1 Axes>"
      ]
     },
     "metadata": {
      "needs_background": "light"
     },
     "output_type": "display_data"
    }
   ],
   "source": [
    "sns.distplot(data_filtered_Item_User.Rating)"
   ]
  },
  {
   "cell_type": "markdown",
   "metadata": {},
   "source": [
    "<h3>Now data_filtered_Item_User has all the products that got rated by at least 50 users, and users who have rated atleast 50 products</h3>"
   ]
  },
  {
   "cell_type": "markdown",
   "metadata": {},
   "source": [
    "<h2>1. Building popularity based recommender System</h2>"
   ]
  },
  {
   "cell_type": "markdown",
   "metadata": {},
   "source": [
    "<p>First we want to check for the products that got the highest average rating</p>"
   ]
  },
  {
   "cell_type": "code",
   "execution_count": 43,
   "metadata": {},
   "outputs": [
    {
     "data": {
      "text/plain": [
       "productId\n",
       "B00L3YHF6O    5.0\n",
       "B00336G7FA    5.0\n",
       "B0033PRWSW    5.0\n",
       "B0033WSDNI    5.0\n",
       "B0033WSDY2    5.0\n",
       "Name: Rating, dtype: float64"
      ]
     },
     "execution_count": 43,
     "metadata": {},
     "output_type": "execute_result"
    }
   ],
   "source": [
    "data_filtered_Item_User.groupby('productId')['Rating'].mean().sort_values(ascending=False).head()"
   ]
  },
  {
   "cell_type": "markdown",
   "metadata": {},
   "source": [
    "<p>Next, we want to check the products with the highest count of ratings</p>"
   ]
  },
  {
   "cell_type": "code",
   "execution_count": 44,
   "metadata": {},
   "outputs": [
    {
     "data": {
      "text/plain": [
       "productId\n",
       "B0088CJT4U    124\n",
       "B003ES5ZUU    103\n",
       "B002R5AM7C     91\n",
       "B00829TIEK     89\n",
       "B008DWCRQW     88\n",
       "Name: Rating, dtype: int64"
      ]
     },
     "execution_count": 44,
     "metadata": {},
     "output_type": "execute_result"
    }
   ],
   "source": [
    "data_filtered_Item_User.groupby('productId')['Rating'].count().sort_values(ascending=False).head()"
   ]
  },
  {
   "cell_type": "markdown",
   "metadata": {},
   "source": [
    "<p>Now we create a dataframe wherein we first group the items together and store the mean rating for each item</p>\n",
    "<p>We then add the rating counts against each product</p>"
   ]
  },
  {
   "cell_type": "code",
   "execution_count": 46,
   "metadata": {},
   "outputs": [],
   "source": [
    "ratings_mean_count = pd.DataFrame(data_filtered_Item_User.groupby('productId')['Rating'].mean())"
   ]
  },
  {
   "cell_type": "code",
   "execution_count": 47,
   "metadata": {},
   "outputs": [],
   "source": [
    "ratings_mean_count['rating_counts'] = pd.DataFrame(data_filtered_Item_User.groupby('productId')['Rating'].count())"
   ]
  },
  {
   "cell_type": "code",
   "execution_count": 48,
   "metadata": {},
   "outputs": [
    {
     "data": {
      "text/html": [
       "<div>\n",
       "<style scoped>\n",
       "    .dataframe tbody tr th:only-of-type {\n",
       "        vertical-align: middle;\n",
       "    }\n",
       "\n",
       "    .dataframe tbody tr th {\n",
       "        vertical-align: top;\n",
       "    }\n",
       "\n",
       "    .dataframe thead th {\n",
       "        text-align: right;\n",
       "    }\n",
       "</style>\n",
       "<table border=\"1\" class=\"dataframe\">\n",
       "  <thead>\n",
       "    <tr style=\"text-align: right;\">\n",
       "      <th></th>\n",
       "      <th>Rating</th>\n",
       "      <th>rating_counts</th>\n",
       "    </tr>\n",
       "    <tr>\n",
       "      <th>productId</th>\n",
       "      <th></th>\n",
       "      <th></th>\n",
       "    </tr>\n",
       "  </thead>\n",
       "  <tbody>\n",
       "    <tr>\n",
       "      <th>0972683275</th>\n",
       "      <td>5.0</td>\n",
       "      <td>1</td>\n",
       "    </tr>\n",
       "    <tr>\n",
       "      <th>1400501466</th>\n",
       "      <td>3.0</td>\n",
       "      <td>1</td>\n",
       "    </tr>\n",
       "    <tr>\n",
       "      <th>1400501776</th>\n",
       "      <td>4.0</td>\n",
       "      <td>1</td>\n",
       "    </tr>\n",
       "    <tr>\n",
       "      <th>1400532655</th>\n",
       "      <td>2.0</td>\n",
       "      <td>2</td>\n",
       "    </tr>\n",
       "    <tr>\n",
       "      <th>9573212919</th>\n",
       "      <td>5.0</td>\n",
       "      <td>1</td>\n",
       "    </tr>\n",
       "  </tbody>\n",
       "</table>\n",
       "</div>"
      ],
      "text/plain": [
       "            Rating  rating_counts\n",
       "productId                        \n",
       "0972683275     5.0              1\n",
       "1400501466     3.0              1\n",
       "1400501776     4.0              1\n",
       "1400532655     2.0              2\n",
       "9573212919     5.0              1"
      ]
     },
     "execution_count": 48,
     "metadata": {},
     "output_type": "execute_result"
    }
   ],
   "source": [
    "ratings_mean_count.head()"
   ]
  },
  {
   "cell_type": "markdown",
   "metadata": {},
   "source": [
    "<p>We will plot average ratings against the number of ratings</p>"
   ]
  },
  {
   "cell_type": "code",
   "execution_count": 50,
   "metadata": {},
   "outputs": [
    {
     "data": {
      "text/plain": [
       "<seaborn.axisgrid.JointGrid at 0x1ac81d58ef0>"
      ]
     },
     "execution_count": 50,
     "metadata": {},
     "output_type": "execute_result"
    },
    {
     "data": {
      "text/plain": [
       "<Figure size 576x432 with 0 Axes>"
      ]
     },
     "metadata": {},
     "output_type": "display_data"
    },
    {
     "data": {
      "image/png": "[encoded data removed]",
      "text/plain": [
       "<Figure size 432x432 with 3 Axes>"
      ]
     },
     "metadata": {
      "needs_background": "light"
     },
     "output_type": "display_data"
    }
   ],
   "source": [
    "plt.figure(figsize=(8,6))\n",
    "plt.rcParams['patch.force_edgecolor'] = True\n",
    "sns.jointplot(x='Rating', y='rating_counts', data=ratings_mean_count, alpha=0.4)"
   ]
  },
  {
   "cell_type": "markdown",
   "metadata": {},
   "source": [
    "<b>We notice that the items that are purchased my most also have the highest raitings indicating that these are items are popular and good. Therefore we can recommend these items </b>"
   ]
  },
  {
   "cell_type": "markdown",
   "metadata": {},
   "source": [
    "<h1>Preparing data with the Dataset class of surprise library to create train and test sets</h1>"
   ]
  },
  {
   "cell_type": "code",
   "execution_count": 53,
   "metadata": {},
   "outputs": [],
   "source": [
    "data_filtered_Item_User.columns = ['userID', 'itemID', 'rating']"
   ]
  },
  {
   "cell_type": "code",
   "execution_count": 55,
   "metadata": {},
   "outputs": [
    {
     "data": {
      "text/html": [
       "<div>\n",
       "<style scoped>\n",
       "    .dataframe tbody tr th:only-of-type {\n",
       "        vertical-align: middle;\n",
       "    }\n",
       "\n",
       "    .dataframe tbody tr th {\n",
       "        vertical-align: top;\n",
       "    }\n",
       "\n",
       "    .dataframe thead th {\n",
       "        text-align: right;\n",
       "    }\n",
       "</style>\n",
       "<table border=\"1\" class=\"dataframe\">\n",
       "  <thead>\n",
       "    <tr style=\"text-align: right;\">\n",
       "      <th></th>\n",
       "      <th>userID</th>\n",
       "      <th>itemID</th>\n",
       "      <th>rating</th>\n",
       "    </tr>\n",
       "  </thead>\n",
       "  <tbody>\n",
       "    <tr>\n",
       "      <th>0</th>\n",
       "      <td>A3TAS1AG6FMBQW</td>\n",
       "      <td>0972683275</td>\n",
       "      <td>5.0</td>\n",
       "    </tr>\n",
       "    <tr>\n",
       "      <th>1</th>\n",
       "      <td>A3TAS1AG6FMBQW</td>\n",
       "      <td>B00000K13A</td>\n",
       "      <td>5.0</td>\n",
       "    </tr>\n",
       "    <tr>\n",
       "      <th>2</th>\n",
       "      <td>A3TAS1AG6FMBQW</td>\n",
       "      <td>B00002EQCW</td>\n",
       "      <td>5.0</td>\n",
       "    </tr>\n",
       "    <tr>\n",
       "      <th>3</th>\n",
       "      <td>A3TAS1AG6FMBQW</td>\n",
       "      <td>B0001OHH0Q</td>\n",
       "      <td>4.0</td>\n",
       "    </tr>\n",
       "    <tr>\n",
       "      <th>4</th>\n",
       "      <td>A3TAS1AG6FMBQW</td>\n",
       "      <td>B0001VGFKW</td>\n",
       "      <td>5.0</td>\n",
       "    </tr>\n",
       "  </tbody>\n",
       "</table>\n",
       "</div>"
      ],
      "text/plain": [
       "           userID      itemID  rating\n",
       "0  A3TAS1AG6FMBQW  0972683275     5.0\n",
       "1  A3TAS1AG6FMBQW  B00000K13A     5.0\n",
       "2  A3TAS1AG6FMBQW  B00002EQCW     5.0\n",
       "3  A3TAS1AG6FMBQW  B0001OHH0Q     4.0\n",
       "4  A3TAS1AG6FMBQW  B0001VGFKW     5.0"
      ]
     },
     "execution_count": 55,
     "metadata": {},
     "output_type": "execute_result"
    }
   ],
   "source": [
    "data_filtered_Item_User.head()"
   ]
  },
  {
   "cell_type": "code",
   "execution_count": 57,
   "metadata": {},
   "outputs": [],
   "source": [
    "reader = Reader(rating_scale=(1, 5))"
   ]
  },
  {
   "cell_type": "code",
   "execution_count": 58,
   "metadata": {},
   "outputs": [],
   "source": [
    "data = Dataset.load_from_df(data_filtered_Item_User[['userID', 'itemID', 'rating']], reader)"
   ]
  },
  {
   "cell_type": "code",
   "execution_count": 62,
   "metadata": {},
   "outputs": [],
   "source": [
    "trainset, testset = train_test_split(data, test_size=.50)"
   ]
  },
  {
   "cell_type": "markdown",
   "metadata": {},
   "source": [
    "<h2>2. Building Item-Item collaborative filtering recommender Model</h2>"
   ]
  },
  {
   "cell_type": "code",
   "execution_count": 103,
   "metadata": {},
   "outputs": [],
   "source": [
    "Item_based_recomendationAlgorithm = KNNWithMeans(min_k=5, k=50, sim_options={'name': 'cosine', 'user_based': False})"
   ]
  },
  {
   "cell_type": "code",
   "execution_count": 104,
   "metadata": {},
   "outputs": [
    {
     "name": "stdout",
     "output_type": "stream",
     "text": [
      "Computing the cosine similarity matrix...\n",
      "Done computing similarity matrix.\n"
     ]
    },
    {
     "data": {
      "text/plain": [
       "<surprise.prediction_algorithms.knns.KNNWithMeans at 0x1ac84d7a710>"
      ]
     },
     "execution_count": 104,
     "metadata": {},
     "output_type": "execute_result"
    }
   ],
   "source": [
    "Item_based_recomendationAlgorithm.fit(trainset)"
   ]
  },
  {
   "cell_type": "code",
   "execution_count": 105,
   "metadata": {},
   "outputs": [],
   "source": [
    "test_pred = Item_based_recomendationAlgorithm.test(testset)"
   ]
  },
  {
   "cell_type": "code",
   "execution_count": 106,
   "metadata": {},
   "outputs": [
    {
     "data": {
      "text/html": [
       "<div>\n",
       "<style scoped>\n",
       "    .dataframe tbody tr th:only-of-type {\n",
       "        vertical-align: middle;\n",
       "    }\n",
       "\n",
       "    .dataframe tbody tr th {\n",
       "        vertical-align: top;\n",
       "    }\n",
       "\n",
       "    .dataframe thead th {\n",
       "        text-align: right;\n",
       "    }\n",
       "</style>\n",
       "<table border=\"1\" class=\"dataframe\">\n",
       "  <thead>\n",
       "    <tr style=\"text-align: right;\">\n",
       "      <th></th>\n",
       "      <th>uid</th>\n",
       "      <th>iid</th>\n",
       "      <th>r_ui</th>\n",
       "      <th>est</th>\n",
       "      <th>details</th>\n",
       "    </tr>\n",
       "  </thead>\n",
       "  <tbody>\n",
       "    <tr>\n",
       "      <th>17789</th>\n",
       "      <td>A100UD67AHFODS</td>\n",
       "      <td>B00F0DD0I6</td>\n",
       "      <td>5.0</td>\n",
       "      <td>4.735502</td>\n",
       "      <td>{'actual_k': 6, 'was_impossible': False}</td>\n",
       "    </tr>\n",
       "    <tr>\n",
       "      <th>2814</th>\n",
       "      <td>A100UD67AHFODS</td>\n",
       "      <td>B005OA3BSY</td>\n",
       "      <td>5.0</td>\n",
       "      <td>4.500000</td>\n",
       "      <td>{'actual_k': 1, 'was_impossible': False}</td>\n",
       "    </tr>\n",
       "    <tr>\n",
       "      <th>16825</th>\n",
       "      <td>A100UD67AHFODS</td>\n",
       "      <td>B004LU1U2M</td>\n",
       "      <td>5.0</td>\n",
       "      <td>4.314026</td>\n",
       "      <td>{'was_impossible': True, 'reason': 'User and/o...</td>\n",
       "    </tr>\n",
       "    <tr>\n",
       "      <th>2801</th>\n",
       "      <td>A100UD67AHFODS</td>\n",
       "      <td>B000LRMS66</td>\n",
       "      <td>5.0</td>\n",
       "      <td>4.689759</td>\n",
       "      <td>{'actual_k': 6, 'was_impossible': False}</td>\n",
       "    </tr>\n",
       "    <tr>\n",
       "      <th>8230</th>\n",
       "      <td>A100UD67AHFODS</td>\n",
       "      <td>B000069JWX</td>\n",
       "      <td>1.0</td>\n",
       "      <td>5.000000</td>\n",
       "      <td>{'actual_k': 0, 'was_impossible': False}</td>\n",
       "    </tr>\n",
       "    <tr>\n",
       "      <th>17007</th>\n",
       "      <td>A100UD67AHFODS</td>\n",
       "      <td>B00113XADE</td>\n",
       "      <td>5.0</td>\n",
       "      <td>5.000000</td>\n",
       "      <td>{'actual_k': 1, 'was_impossible': False}</td>\n",
       "    </tr>\n",
       "    <tr>\n",
       "      <th>8735</th>\n",
       "      <td>A100UD67AHFODS</td>\n",
       "      <td>B002Y6CJJ8</td>\n",
       "      <td>4.0</td>\n",
       "      <td>4.846154</td>\n",
       "      <td>{'actual_k': 3, 'was_impossible': False}</td>\n",
       "    </tr>\n",
       "    <tr>\n",
       "      <th>3470</th>\n",
       "      <td>A100UD67AHFODS</td>\n",
       "      <td>B004V3KCJG</td>\n",
       "      <td>1.0</td>\n",
       "      <td>5.000000</td>\n",
       "      <td>{'actual_k': 1, 'was_impossible': False}</td>\n",
       "    </tr>\n",
       "    <tr>\n",
       "      <th>1749</th>\n",
       "      <td>A100UD67AHFODS</td>\n",
       "      <td>B001A5FH9S</td>\n",
       "      <td>5.0</td>\n",
       "      <td>4.750000</td>\n",
       "      <td>{'actual_k': 2, 'was_impossible': False}</td>\n",
       "    </tr>\n",
       "    <tr>\n",
       "      <th>20451</th>\n",
       "      <td>A100UD67AHFODS</td>\n",
       "      <td>B0082E9K7U</td>\n",
       "      <td>5.0</td>\n",
       "      <td>4.992768</td>\n",
       "      <td>{'actual_k': 5, 'was_impossible': False}</td>\n",
       "    </tr>\n",
       "    <tr>\n",
       "      <th>15649</th>\n",
       "      <td>A100UD67AHFODS</td>\n",
       "      <td>B00176NOCM</td>\n",
       "      <td>5.0</td>\n",
       "      <td>4.314026</td>\n",
       "      <td>{'was_impossible': True, 'reason': 'User and/o...</td>\n",
       "    </tr>\n",
       "    <tr>\n",
       "      <th>18442</th>\n",
       "      <td>A100UD67AHFODS</td>\n",
       "      <td>B005CLPP8E</td>\n",
       "      <td>5.0</td>\n",
       "      <td>4.750000</td>\n",
       "      <td>{'actual_k': 4, 'was_impossible': False}</td>\n",
       "    </tr>\n",
       "    <tr>\n",
       "      <th>18683</th>\n",
       "      <td>A100UD67AHFODS</td>\n",
       "      <td>B001JIBOLQ</td>\n",
       "      <td>5.0</td>\n",
       "      <td>4.314026</td>\n",
       "      <td>{'was_impossible': True, 'reason': 'User and/o...</td>\n",
       "    </tr>\n",
       "    <tr>\n",
       "      <th>12183</th>\n",
       "      <td>A100UD67AHFODS</td>\n",
       "      <td>B00004Z5M1</td>\n",
       "      <td>5.0</td>\n",
       "      <td>4.500000</td>\n",
       "      <td>{'actual_k': 0, 'was_impossible': False}</td>\n",
       "    </tr>\n",
       "    <tr>\n",
       "      <th>5219</th>\n",
       "      <td>A100UD67AHFODS</td>\n",
       "      <td>B00108UNEY</td>\n",
       "      <td>5.0</td>\n",
       "      <td>5.000000</td>\n",
       "      <td>{'actual_k': 0, 'was_impossible': False}</td>\n",
       "    </tr>\n",
       "    <tr>\n",
       "      <th>10397</th>\n",
       "      <td>A100UD67AHFODS</td>\n",
       "      <td>B004YLCE2S</td>\n",
       "      <td>5.0</td>\n",
       "      <td>5.000000</td>\n",
       "      <td>{'actual_k': 3, 'was_impossible': False}</td>\n",
       "    </tr>\n",
       "    <tr>\n",
       "      <th>5146</th>\n",
       "      <td>A100UD67AHFODS</td>\n",
       "      <td>B0098O9TRO</td>\n",
       "      <td>5.0</td>\n",
       "      <td>4.314026</td>\n",
       "      <td>{'was_impossible': True, 'reason': 'User and/o...</td>\n",
       "    </tr>\n",
       "    <tr>\n",
       "      <th>5108</th>\n",
       "      <td>A100UD67AHFODS</td>\n",
       "      <td>B000Q8UAWY</td>\n",
       "      <td>5.0</td>\n",
       "      <td>4.687500</td>\n",
       "      <td>{'actual_k': 3, 'was_impossible': False}</td>\n",
       "    </tr>\n",
       "    <tr>\n",
       "      <th>11279</th>\n",
       "      <td>A100UD67AHFODS</td>\n",
       "      <td>B009IBXECS</td>\n",
       "      <td>5.0</td>\n",
       "      <td>4.314026</td>\n",
       "      <td>{'was_impossible': True, 'reason': 'User and/o...</td>\n",
       "    </tr>\n",
       "    <tr>\n",
       "      <th>11256</th>\n",
       "      <td>A100UD67AHFODS</td>\n",
       "      <td>B008R3875C</td>\n",
       "      <td>5.0</td>\n",
       "      <td>4.314026</td>\n",
       "      <td>{'was_impossible': True, 'reason': 'User and/o...</td>\n",
       "    </tr>\n",
       "    <tr>\n",
       "      <th>17968</th>\n",
       "      <td>A100UD67AHFODS</td>\n",
       "      <td>B0001D3K8A</td>\n",
       "      <td>5.0</td>\n",
       "      <td>5.000000</td>\n",
       "      <td>{'actual_k': 0, 'was_impossible': False}</td>\n",
       "    </tr>\n",
       "    <tr>\n",
       "      <th>11086</th>\n",
       "      <td>A100UD67AHFODS</td>\n",
       "      <td>B000233WJ6</td>\n",
       "      <td>5.0</td>\n",
       "      <td>3.500000</td>\n",
       "      <td>{'actual_k': 1, 'was_impossible': False}</td>\n",
       "    </tr>\n",
       "    <tr>\n",
       "      <th>18030</th>\n",
       "      <td>A100UD67AHFODS</td>\n",
       "      <td>B004T1YA66</td>\n",
       "      <td>5.0</td>\n",
       "      <td>4.314026</td>\n",
       "      <td>{'was_impossible': True, 'reason': 'User and/o...</td>\n",
       "    </tr>\n",
       "    <tr>\n",
       "      <th>1410</th>\n",
       "      <td>A100UD67AHFODS</td>\n",
       "      <td>B002NU5S02</td>\n",
       "      <td>4.0</td>\n",
       "      <td>4.314026</td>\n",
       "      <td>{'was_impossible': True, 'reason': 'User and/o...</td>\n",
       "    </tr>\n",
       "    <tr>\n",
       "      <th>2650</th>\n",
       "      <td>A100UD67AHFODS</td>\n",
       "      <td>B005LS2FS6</td>\n",
       "      <td>5.0</td>\n",
       "      <td>5.000000</td>\n",
       "      <td>{'actual_k': 0, 'was_impossible': False}</td>\n",
       "    </tr>\n",
       "    <tr>\n",
       "      <th>19823</th>\n",
       "      <td>A100UD67AHFODS</td>\n",
       "      <td>B00HHRP11C</td>\n",
       "      <td>5.0</td>\n",
       "      <td>4.869767</td>\n",
       "      <td>{'actual_k': 5, 'was_impossible': False}</td>\n",
       "    </tr>\n",
       "    <tr>\n",
       "      <th>1970</th>\n",
       "      <td>A100UD67AHFODS</td>\n",
       "      <td>B00133BAKM</td>\n",
       "      <td>5.0</td>\n",
       "      <td>4.314026</td>\n",
       "      <td>{'was_impossible': True, 'reason': 'User and/o...</td>\n",
       "    </tr>\n",
       "    <tr>\n",
       "      <th>4066</th>\n",
       "      <td>A100UD67AHFODS</td>\n",
       "      <td>B004V3KCIM</td>\n",
       "      <td>5.0</td>\n",
       "      <td>4.314026</td>\n",
       "      <td>{'was_impossible': True, 'reason': 'User and/o...</td>\n",
       "    </tr>\n",
       "    <tr>\n",
       "      <th>8778</th>\n",
       "      <td>A100UD67AHFODS</td>\n",
       "      <td>B004YI9NTS</td>\n",
       "      <td>5.0</td>\n",
       "      <td>4.333333</td>\n",
       "      <td>{'actual_k': 2, 'was_impossible': False}</td>\n",
       "    </tr>\n",
       "    <tr>\n",
       "      <th>9273</th>\n",
       "      <td>A100UD67AHFODS</td>\n",
       "      <td>B007QWF9GK</td>\n",
       "      <td>5.0</td>\n",
       "      <td>4.314026</td>\n",
       "      <td>{'was_impossible': True, 'reason': 'User and/o...</td>\n",
       "    </tr>\n",
       "    <tr>\n",
       "      <th>...</th>\n",
       "      <td>...</td>\n",
       "      <td>...</td>\n",
       "      <td>...</td>\n",
       "      <td>...</td>\n",
       "      <td>...</td>\n",
       "    </tr>\n",
       "    <tr>\n",
       "      <th>15666</th>\n",
       "      <td>AZMY6E8B52L2T</td>\n",
       "      <td>B00000J1EQ</td>\n",
       "      <td>5.0</td>\n",
       "      <td>5.000000</td>\n",
       "      <td>{'actual_k': 2, 'was_impossible': False}</td>\n",
       "    </tr>\n",
       "    <tr>\n",
       "      <th>17539</th>\n",
       "      <td>AZMY6E8B52L2T</td>\n",
       "      <td>B0026SKZO0</td>\n",
       "      <td>4.0</td>\n",
       "      <td>3.500000</td>\n",
       "      <td>{'actual_k': 0, 'was_impossible': False}</td>\n",
       "    </tr>\n",
       "    <tr>\n",
       "      <th>12461</th>\n",
       "      <td>AZMY6E8B52L2T</td>\n",
       "      <td>B001TH7GUK</td>\n",
       "      <td>5.0</td>\n",
       "      <td>4.681023</td>\n",
       "      <td>{'actual_k': 8, 'was_impossible': False}</td>\n",
       "    </tr>\n",
       "    <tr>\n",
       "      <th>20900</th>\n",
       "      <td>AZMY6E8B52L2T</td>\n",
       "      <td>B00G500AE0</td>\n",
       "      <td>5.0</td>\n",
       "      <td>4.000000</td>\n",
       "      <td>{'actual_k': 4, 'was_impossible': False}</td>\n",
       "    </tr>\n",
       "    <tr>\n",
       "      <th>10697</th>\n",
       "      <td>AZMY6E8B52L2T</td>\n",
       "      <td>B00DTZYHX4</td>\n",
       "      <td>5.0</td>\n",
       "      <td>5.000000</td>\n",
       "      <td>{'actual_k': 12, 'was_impossible': False}</td>\n",
       "    </tr>\n",
       "    <tr>\n",
       "      <th>15399</th>\n",
       "      <td>AZMY6E8B52L2T</td>\n",
       "      <td>B000T8PTLI</td>\n",
       "      <td>4.0</td>\n",
       "      <td>4.314026</td>\n",
       "      <td>{'was_impossible': True, 'reason': 'User and/o...</td>\n",
       "    </tr>\n",
       "    <tr>\n",
       "      <th>16893</th>\n",
       "      <td>AZMY6E8B52L2T</td>\n",
       "      <td>B00DDH4TYA</td>\n",
       "      <td>5.0</td>\n",
       "      <td>5.000000</td>\n",
       "      <td>{'actual_k': 5, 'was_impossible': False}</td>\n",
       "    </tr>\n",
       "    <tr>\n",
       "      <th>7216</th>\n",
       "      <td>AZMY6E8B52L2T</td>\n",
       "      <td>B003O8682Y</td>\n",
       "      <td>5.0</td>\n",
       "      <td>5.000000</td>\n",
       "      <td>{'actual_k': 0, 'was_impossible': False}</td>\n",
       "    </tr>\n",
       "    <tr>\n",
       "      <th>15725</th>\n",
       "      <td>AZMY6E8B52L2T</td>\n",
       "      <td>B0032OX1N4</td>\n",
       "      <td>4.0</td>\n",
       "      <td>3.000000</td>\n",
       "      <td>{'actual_k': 3, 'was_impossible': False}</td>\n",
       "    </tr>\n",
       "    <tr>\n",
       "      <th>11771</th>\n",
       "      <td>AZMY6E8B52L2T</td>\n",
       "      <td>B00BXAGSRU</td>\n",
       "      <td>5.0</td>\n",
       "      <td>5.000000</td>\n",
       "      <td>{'actual_k': 4, 'was_impossible': False}</td>\n",
       "    </tr>\n",
       "    <tr>\n",
       "      <th>14223</th>\n",
       "      <td>AZMY6E8B52L2T</td>\n",
       "      <td>B00FW6T36Y</td>\n",
       "      <td>5.0</td>\n",
       "      <td>5.000000</td>\n",
       "      <td>{'actual_k': 3, 'was_impossible': False}</td>\n",
       "    </tr>\n",
       "    <tr>\n",
       "      <th>13098</th>\n",
       "      <td>AZMY6E8B52L2T</td>\n",
       "      <td>B001MSU1FS</td>\n",
       "      <td>4.0</td>\n",
       "      <td>5.000000</td>\n",
       "      <td>{'actual_k': 5, 'was_impossible': False}</td>\n",
       "    </tr>\n",
       "    <tr>\n",
       "      <th>10131</th>\n",
       "      <td>AZMY6E8B52L2T</td>\n",
       "      <td>B007M6OZCE</td>\n",
       "      <td>5.0</td>\n",
       "      <td>4.314026</td>\n",
       "      <td>{'was_impossible': True, 'reason': 'User and/o...</td>\n",
       "    </tr>\n",
       "    <tr>\n",
       "      <th>6590</th>\n",
       "      <td>AZMY6E8B52L2T</td>\n",
       "      <td>B00006B82A</td>\n",
       "      <td>5.0</td>\n",
       "      <td>4.314026</td>\n",
       "      <td>{'was_impossible': True, 'reason': 'User and/o...</td>\n",
       "    </tr>\n",
       "    <tr>\n",
       "      <th>5001</th>\n",
       "      <td>AZMY6E8B52L2T</td>\n",
       "      <td>B005FN5DJA</td>\n",
       "      <td>5.0</td>\n",
       "      <td>4.314026</td>\n",
       "      <td>{'was_impossible': True, 'reason': 'User and/o...</td>\n",
       "    </tr>\n",
       "    <tr>\n",
       "      <th>14628</th>\n",
       "      <td>AZMY6E8B52L2T</td>\n",
       "      <td>B004C9P9TM</td>\n",
       "      <td>5.0</td>\n",
       "      <td>5.000000</td>\n",
       "      <td>{'actual_k': 5, 'was_impossible': False}</td>\n",
       "    </tr>\n",
       "    <tr>\n",
       "      <th>16455</th>\n",
       "      <td>AZMY6E8B52L2T</td>\n",
       "      <td>B00EE1WUI6</td>\n",
       "      <td>5.0</td>\n",
       "      <td>4.314026</td>\n",
       "      <td>{'was_impossible': True, 'reason': 'User and/o...</td>\n",
       "    </tr>\n",
       "    <tr>\n",
       "      <th>4205</th>\n",
       "      <td>AZMY6E8B52L2T</td>\n",
       "      <td>B000Z80ICM</td>\n",
       "      <td>4.0</td>\n",
       "      <td>4.213116</td>\n",
       "      <td>{'actual_k': 6, 'was_impossible': False}</td>\n",
       "    </tr>\n",
       "    <tr>\n",
       "      <th>19455</th>\n",
       "      <td>AZMY6E8B52L2T</td>\n",
       "      <td>B003B41XYO</td>\n",
       "      <td>5.0</td>\n",
       "      <td>5.000000</td>\n",
       "      <td>{'actual_k': 2, 'was_impossible': False}</td>\n",
       "    </tr>\n",
       "    <tr>\n",
       "      <th>8573</th>\n",
       "      <td>AZMY6E8B52L2T</td>\n",
       "      <td>B001TH7GUU</td>\n",
       "      <td>5.0</td>\n",
       "      <td>5.000000</td>\n",
       "      <td>{'actual_k': 7, 'was_impossible': False}</td>\n",
       "    </tr>\n",
       "    <tr>\n",
       "      <th>14283</th>\n",
       "      <td>AZMY6E8B52L2T</td>\n",
       "      <td>B00CHH0JF0</td>\n",
       "      <td>5.0</td>\n",
       "      <td>4.662770</td>\n",
       "      <td>{'actual_k': 16, 'was_impossible': False}</td>\n",
       "    </tr>\n",
       "    <tr>\n",
       "      <th>17519</th>\n",
       "      <td>AZMY6E8B52L2T</td>\n",
       "      <td>B002CVHURQ</td>\n",
       "      <td>5.0</td>\n",
       "      <td>4.314026</td>\n",
       "      <td>{'was_impossible': True, 'reason': 'User and/o...</td>\n",
       "    </tr>\n",
       "    <tr>\n",
       "      <th>1401</th>\n",
       "      <td>AZMY6E8B52L2T</td>\n",
       "      <td>B002J46IYW</td>\n",
       "      <td>5.0</td>\n",
       "      <td>5.000000</td>\n",
       "      <td>{'actual_k': 1, 'was_impossible': False}</td>\n",
       "    </tr>\n",
       "    <tr>\n",
       "      <th>2960</th>\n",
       "      <td>AZMY6E8B52L2T</td>\n",
       "      <td>B0041TF4QQ</td>\n",
       "      <td>5.0</td>\n",
       "      <td>5.000000</td>\n",
       "      <td>{'actual_k': 0, 'was_impossible': False}</td>\n",
       "    </tr>\n",
       "    <tr>\n",
       "      <th>19123</th>\n",
       "      <td>AZMY6E8B52L2T</td>\n",
       "      <td>B00DTPYRTI</td>\n",
       "      <td>5.0</td>\n",
       "      <td>4.689168</td>\n",
       "      <td>{'actual_k': 5, 'was_impossible': False}</td>\n",
       "    </tr>\n",
       "    <tr>\n",
       "      <th>17573</th>\n",
       "      <td>AZMY6E8B52L2T</td>\n",
       "      <td>B000OKH7I4</td>\n",
       "      <td>4.0</td>\n",
       "      <td>4.314026</td>\n",
       "      <td>{'was_impossible': True, 'reason': 'User and/o...</td>\n",
       "    </tr>\n",
       "    <tr>\n",
       "      <th>2779</th>\n",
       "      <td>AZMY6E8B52L2T</td>\n",
       "      <td>B0019EHU8G</td>\n",
       "      <td>5.0</td>\n",
       "      <td>3.992676</td>\n",
       "      <td>{'actual_k': 9, 'was_impossible': False}</td>\n",
       "    </tr>\n",
       "    <tr>\n",
       "      <th>3109</th>\n",
       "      <td>AZMY6E8B52L2T</td>\n",
       "      <td>B000NMFCIA</td>\n",
       "      <td>5.0</td>\n",
       "      <td>4.000000</td>\n",
       "      <td>{'actual_k': 0, 'was_impossible': False}</td>\n",
       "    </tr>\n",
       "    <tr>\n",
       "      <th>12932</th>\n",
       "      <td>AZMY6E8B52L2T</td>\n",
       "      <td>B000VX6XL6</td>\n",
       "      <td>5.0</td>\n",
       "      <td>4.774504</td>\n",
       "      <td>{'actual_k': 9, 'was_impossible': False}</td>\n",
       "    </tr>\n",
       "    <tr>\n",
       "      <th>15593</th>\n",
       "      <td>AZMY6E8B52L2T</td>\n",
       "      <td>B00EFE9OAE</td>\n",
       "      <td>5.0</td>\n",
       "      <td>4.104025</td>\n",
       "      <td>{'actual_k': 13, 'was_impossible': False}</td>\n",
       "    </tr>\n",
       "  </tbody>\n",
       "</table>\n",
       "<p>21753 rows × 5 columns</p>\n",
       "</div>"
      ],
      "text/plain": [
       "                  uid         iid  r_ui       est  \\\n",
       "17789  A100UD67AHFODS  B00F0DD0I6   5.0  4.735502   \n",
       "2814   A100UD67AHFODS  B005OA3BSY   5.0  4.500000   \n",
       "16825  A100UD67AHFODS  B004LU1U2M   5.0  4.314026   \n",
       "2801   A100UD67AHFODS  B000LRMS66   5.0  4.689759   \n",
       "8230   A100UD67AHFODS  B000069JWX   1.0  5.000000   \n",
       "17007  A100UD67AHFODS  B00113XADE   5.0  5.000000   \n",
       "8735   A100UD67AHFODS  B002Y6CJJ8   4.0  4.846154   \n",
       "3470   A100UD67AHFODS  B004V3KCJG   1.0  5.000000   \n",
       "1749   A100UD67AHFODS  B001A5FH9S   5.0  4.750000   \n",
       "20451  A100UD67AHFODS  B0082E9K7U   5.0  4.992768   \n",
       "15649  A100UD67AHFODS  B00176NOCM   5.0  4.314026   \n",
       "18442  A100UD67AHFODS  B005CLPP8E   5.0  4.750000   \n",
       "18683  A100UD67AHFODS  B001JIBOLQ   5.0  4.314026   \n",
       "12183  A100UD67AHFODS  B00004Z5M1   5.0  4.500000   \n",
       "5219   A100UD67AHFODS  B00108UNEY   5.0  5.000000   \n",
       "10397  A100UD67AHFODS  B004YLCE2S   5.0  5.000000   \n",
       "5146   A100UD67AHFODS  B0098O9TRO   5.0  4.314026   \n",
       "5108   A100UD67AHFODS  B000Q8UAWY   5.0  4.687500   \n",
       "11279  A100UD67AHFODS  B009IBXECS   5.0  4.314026   \n",
       "11256  A100UD67AHFODS  B008R3875C   5.0  4.314026   \n",
       "17968  A100UD67AHFODS  B0001D3K8A   5.0  5.000000   \n",
       "11086  A100UD67AHFODS  B000233WJ6   5.0  3.500000   \n",
       "18030  A100UD67AHFODS  B004T1YA66   5.0  4.314026   \n",
       "1410   A100UD67AHFODS  B002NU5S02   4.0  4.314026   \n",
       "2650   A100UD67AHFODS  B005LS2FS6   5.0  5.000000   \n",
       "19823  A100UD67AHFODS  B00HHRP11C   5.0  4.869767   \n",
       "1970   A100UD67AHFODS  B00133BAKM   5.0  4.314026   \n",
       "4066   A100UD67AHFODS  B004V3KCIM   5.0  4.314026   \n",
       "8778   A100UD67AHFODS  B004YI9NTS   5.0  4.333333   \n",
       "9273   A100UD67AHFODS  B007QWF9GK   5.0  4.314026   \n",
       "...               ...         ...   ...       ...   \n",
       "15666   AZMY6E8B52L2T  B00000J1EQ   5.0  5.000000   \n",
       "17539   AZMY6E8B52L2T  B0026SKZO0   4.0  3.500000   \n",
       "12461   AZMY6E8B52L2T  B001TH7GUK   5.0  4.681023   \n",
       "20900   AZMY6E8B52L2T  B00G500AE0   5.0  4.000000   \n",
       "10697   AZMY6E8B52L2T  B00DTZYHX4   5.0  5.000000   \n",
       "15399   AZMY6E8B52L2T  B000T8PTLI   4.0  4.314026   \n",
       "16893   AZMY6E8B52L2T  B00DDH4TYA   5.0  5.000000   \n",
       "7216    AZMY6E8B52L2T  B003O8682Y   5.0  5.000000   \n",
       "15725   AZMY6E8B52L2T  B0032OX1N4   4.0  3.000000   \n",
       "11771   AZMY6E8B52L2T  B00BXAGSRU   5.0  5.000000   \n",
       "14223   AZMY6E8B52L2T  B00FW6T36Y   5.0  5.000000   \n",
       "13098   AZMY6E8B52L2T  B001MSU1FS   4.0  5.000000   \n",
       "10131   AZMY6E8B52L2T  B007M6OZCE   5.0  4.314026   \n",
       "6590    AZMY6E8B52L2T  B00006B82A   5.0  4.314026   \n",
       "5001    AZMY6E8B52L2T  B005FN5DJA   5.0  4.314026   \n",
       "14628   AZMY6E8B52L2T  B004C9P9TM   5.0  5.000000   \n",
       "16455   AZMY6E8B52L2T  B00EE1WUI6   5.0  4.314026   \n",
       "4205    AZMY6E8B52L2T  B000Z80ICM   4.0  4.213116   \n",
       "19455   AZMY6E8B52L2T  B003B41XYO   5.0  5.000000   \n",
       "8573    AZMY6E8B52L2T  B001TH7GUU   5.0  5.000000   \n",
       "14283   AZMY6E8B52L2T  B00CHH0JF0   5.0  4.662770   \n",
       "17519   AZMY6E8B52L2T  B002CVHURQ   5.0  4.314026   \n",
       "1401    AZMY6E8B52L2T  B002J46IYW   5.0  5.000000   \n",
       "2960    AZMY6E8B52L2T  B0041TF4QQ   5.0  5.000000   \n",
       "19123   AZMY6E8B52L2T  B00DTPYRTI   5.0  4.689168   \n",
       "17573   AZMY6E8B52L2T  B000OKH7I4   4.0  4.314026   \n",
       "2779    AZMY6E8B52L2T  B0019EHU8G   5.0  3.992676   \n",
       "3109    AZMY6E8B52L2T  B000NMFCIA   5.0  4.000000   \n",
       "12932   AZMY6E8B52L2T  B000VX6XL6   5.0  4.774504   \n",
       "15593   AZMY6E8B52L2T  B00EFE9OAE   5.0  4.104025   \n",
       "\n",
       "                                                 details  \n",
       "17789           {'actual_k': 6, 'was_impossible': False}  \n",
       "2814            {'actual_k': 1, 'was_impossible': False}  \n",
       "16825  {'was_impossible': True, 'reason': 'User and/o...  \n",
       "2801            {'actual_k': 6, 'was_impossible': False}  \n",
       "8230            {'actual_k': 0, 'was_impossible': False}  \n",
       "17007           {'actual_k': 1, 'was_impossible': False}  \n",
       "8735            {'actual_k': 3, 'was_impossible': False}  \n",
       "3470            {'actual_k': 1, 'was_impossible': False}  \n",
       "1749            {'actual_k': 2, 'was_impossible': False}  \n",
       "20451           {'actual_k': 5, 'was_impossible': False}  \n",
       "15649  {'was_impossible': True, 'reason': 'User and/o...  \n",
       "18442           {'actual_k': 4, 'was_impossible': False}  \n",
       "18683  {'was_impossible': True, 'reason': 'User and/o...  \n",
       "12183           {'actual_k': 0, 'was_impossible': False}  \n",
       "5219            {'actual_k': 0, 'was_impossible': False}  \n",
       "10397           {'actual_k': 3, 'was_impossible': False}  \n",
       "5146   {'was_impossible': True, 'reason': 'User and/o...  \n",
       "5108            {'actual_k': 3, 'was_impossible': False}  \n",
       "11279  {'was_impossible': True, 'reason': 'User and/o...  \n",
       "11256  {'was_impossible': True, 'reason': 'User and/o...  \n",
       "17968           {'actual_k': 0, 'was_impossible': False}  \n",
       "11086           {'actual_k': 1, 'was_impossible': False}  \n",
       "18030  {'was_impossible': True, 'reason': 'User and/o...  \n",
       "1410   {'was_impossible': True, 'reason': 'User and/o...  \n",
       "2650            {'actual_k': 0, 'was_impossible': False}  \n",
       "19823           {'actual_k': 5, 'was_impossible': False}  \n",
       "1970   {'was_impossible': True, 'reason': 'User and/o...  \n",
       "4066   {'was_impossible': True, 'reason': 'User and/o...  \n",
       "8778            {'actual_k': 2, 'was_impossible': False}  \n",
       "9273   {'was_impossible': True, 'reason': 'User and/o...  \n",
       "...                                                  ...  \n",
       "15666           {'actual_k': 2, 'was_impossible': False}  \n",
       "17539           {'actual_k': 0, 'was_impossible': False}  \n",
       "12461           {'actual_k': 8, 'was_impossible': False}  \n",
       "20900           {'actual_k': 4, 'was_impossible': False}  \n",
       "10697          {'actual_k': 12, 'was_impossible': False}  \n",
       "15399  {'was_impossible': True, 'reason': 'User and/o...  \n",
       "16893           {'actual_k': 5, 'was_impossible': False}  \n",
       "7216            {'actual_k': 0, 'was_impossible': False}  \n",
       "15725           {'actual_k': 3, 'was_impossible': False}  \n",
       "11771           {'actual_k': 4, 'was_impossible': False}  \n",
       "14223           {'actual_k': 3, 'was_impossible': False}  \n",
       "13098           {'actual_k': 5, 'was_impossible': False}  \n",
       "10131  {'was_impossible': True, 'reason': 'User and/o...  \n",
       "6590   {'was_impossible': True, 'reason': 'User and/o...  \n",
       "5001   {'was_impossible': True, 'reason': 'User and/o...  \n",
       "14628           {'actual_k': 5, 'was_impossible': False}  \n",
       "16455  {'was_impossible': True, 'reason': 'User and/o...  \n",
       "4205            {'actual_k': 6, 'was_impossible': False}  \n",
       "19455           {'actual_k': 2, 'was_impossible': False}  \n",
       "8573            {'actual_k': 7, 'was_impossible': False}  \n",
       "14283          {'actual_k': 16, 'was_impossible': False}  \n",
       "17519  {'was_impossible': True, 'reason': 'User and/o...  \n",
       "1401            {'actual_k': 1, 'was_impossible': False}  \n",
       "2960            {'actual_k': 0, 'was_impossible': False}  \n",
       "19123           {'actual_k': 5, 'was_impossible': False}  \n",
       "17573  {'was_impossible': True, 'reason': 'User and/o...  \n",
       "2779            {'actual_k': 9, 'was_impossible': False}  \n",
       "3109            {'actual_k': 0, 'was_impossible': False}  \n",
       "12932           {'actual_k': 9, 'was_impossible': False}  \n",
       "15593          {'actual_k': 13, 'was_impossible': False}  \n",
       "\n",
       "[21753 rows x 5 columns]"
      ]
     },
     "execution_count": 106,
     "metadata": {},
     "output_type": "execute_result"
    }
   ],
   "source": [
    "pd.DataFrame(test_pred).sort_values(by='uid')"
   ]
  },
  {
   "cell_type": "markdown",
   "metadata": {},
   "source": [
    "<h3>RMSE: item-item based model</h3>"
   ]
  },
  {
   "cell_type": "code",
   "execution_count": 95,
   "metadata": {},
   "outputs": [
    {
     "name": "stdout",
     "output_type": "stream",
     "text": [
      "Item-based Model : Test Set\n",
      "RMSE: 1.0725\n"
     ]
    },
    {
     "data": {
      "text/plain": [
       "1.0725383724153597"
      ]
     },
     "execution_count": 95,
     "metadata": {},
     "output_type": "execute_result"
    }
   ],
   "source": [
    "print(\"Item-based Model : Test Set\")\n",
    "accuracy.rmse(test_pred, verbose=True)"
   ]
  },
  {
   "cell_type": "code",
   "execution_count": 99,
   "metadata": {},
   "outputs": [
    {
     "name": "stdout",
     "output_type": "stream",
     "text": [
      "user: A3TAS1AG6FMBQW item: B00002EQCW r_ui = None   est = 5.00   {'actual_k': 0, 'was_impossible': False}\n"
     ]
    }
   ],
   "source": [
    "pred = Item_based_recomendationAlgorithm.predict('A3TAS1AG6FMBQW', 'B00002EQCW', verbose=True)"
   ]
  },
  {
   "cell_type": "markdown",
   "metadata": {},
   "source": [
    "<h2>3. Building User-User collaborative filtering recommender Model</h2>"
   ]
  },
  {
   "cell_type": "code",
   "execution_count": 88,
   "metadata": {},
   "outputs": [
    {
     "name": "stdout",
     "output_type": "stream",
     "text": [
      "Computing the cosine similarity matrix...\n",
      "Done computing similarity matrix.\n"
     ]
    }
   ],
   "source": [
    "User_based_recomendationAlgorithm = KNNWithMeans(k=50,min_k=5, sim_options={'name': 'cosine', 'user_based': True})\n",
    "User_based_recomendationAlgorithm.fit(trainset)\n",
    "test_pred = User_based_recomendationAlgorithm.test(testset)"
   ]
  },
  {
   "cell_type": "code",
   "execution_count": 102,
   "metadata": {},
   "outputs": [
    {
     "data": {
      "text/html": [
       "<div>\n",
       "<style scoped>\n",
       "    .dataframe tbody tr th:only-of-type {\n",
       "        vertical-align: middle;\n",
       "    }\n",
       "\n",
       "    .dataframe tbody tr th {\n",
       "        vertical-align: top;\n",
       "    }\n",
       "\n",
       "    .dataframe thead th {\n",
       "        text-align: right;\n",
       "    }\n",
       "</style>\n",
       "<table border=\"1\" class=\"dataframe\">\n",
       "  <thead>\n",
       "    <tr style=\"text-align: right;\">\n",
       "      <th></th>\n",
       "      <th>uid</th>\n",
       "      <th>iid</th>\n",
       "      <th>r_ui</th>\n",
       "      <th>est</th>\n",
       "      <th>details</th>\n",
       "    </tr>\n",
       "  </thead>\n",
       "  <tbody>\n",
       "    <tr>\n",
       "      <th>17789</th>\n",
       "      <td>A100UD67AHFODS</td>\n",
       "      <td>B00F0DD0I6</td>\n",
       "      <td>5.0</td>\n",
       "      <td>4.735502</td>\n",
       "      <td>{'actual_k': 6, 'was_impossible': False}</td>\n",
       "    </tr>\n",
       "    <tr>\n",
       "      <th>2814</th>\n",
       "      <td>A100UD67AHFODS</td>\n",
       "      <td>B005OA3BSY</td>\n",
       "      <td>5.0</td>\n",
       "      <td>4.500000</td>\n",
       "      <td>{'actual_k': 1, 'was_impossible': False}</td>\n",
       "    </tr>\n",
       "    <tr>\n",
       "      <th>16825</th>\n",
       "      <td>A100UD67AHFODS</td>\n",
       "      <td>B004LU1U2M</td>\n",
       "      <td>5.0</td>\n",
       "      <td>4.314026</td>\n",
       "      <td>{'was_impossible': True, 'reason': 'User and/o...</td>\n",
       "    </tr>\n",
       "    <tr>\n",
       "      <th>2801</th>\n",
       "      <td>A100UD67AHFODS</td>\n",
       "      <td>B000LRMS66</td>\n",
       "      <td>5.0</td>\n",
       "      <td>4.689759</td>\n",
       "      <td>{'actual_k': 6, 'was_impossible': False}</td>\n",
       "    </tr>\n",
       "    <tr>\n",
       "      <th>8230</th>\n",
       "      <td>A100UD67AHFODS</td>\n",
       "      <td>B000069JWX</td>\n",
       "      <td>1.0</td>\n",
       "      <td>5.000000</td>\n",
       "      <td>{'actual_k': 0, 'was_impossible': False}</td>\n",
       "    </tr>\n",
       "    <tr>\n",
       "      <th>17007</th>\n",
       "      <td>A100UD67AHFODS</td>\n",
       "      <td>B00113XADE</td>\n",
       "      <td>5.0</td>\n",
       "      <td>5.000000</td>\n",
       "      <td>{'actual_k': 1, 'was_impossible': False}</td>\n",
       "    </tr>\n",
       "    <tr>\n",
       "      <th>8735</th>\n",
       "      <td>A100UD67AHFODS</td>\n",
       "      <td>B002Y6CJJ8</td>\n",
       "      <td>4.0</td>\n",
       "      <td>4.846154</td>\n",
       "      <td>{'actual_k': 3, 'was_impossible': False}</td>\n",
       "    </tr>\n",
       "    <tr>\n",
       "      <th>3470</th>\n",
       "      <td>A100UD67AHFODS</td>\n",
       "      <td>B004V3KCJG</td>\n",
       "      <td>1.0</td>\n",
       "      <td>5.000000</td>\n",
       "      <td>{'actual_k': 1, 'was_impossible': False}</td>\n",
       "    </tr>\n",
       "    <tr>\n",
       "      <th>1749</th>\n",
       "      <td>A100UD67AHFODS</td>\n",
       "      <td>B001A5FH9S</td>\n",
       "      <td>5.0</td>\n",
       "      <td>4.750000</td>\n",
       "      <td>{'actual_k': 2, 'was_impossible': False}</td>\n",
       "    </tr>\n",
       "    <tr>\n",
       "      <th>20451</th>\n",
       "      <td>A100UD67AHFODS</td>\n",
       "      <td>B0082E9K7U</td>\n",
       "      <td>5.0</td>\n",
       "      <td>4.992768</td>\n",
       "      <td>{'actual_k': 5, 'was_impossible': False}</td>\n",
       "    </tr>\n",
       "    <tr>\n",
       "      <th>15649</th>\n",
       "      <td>A100UD67AHFODS</td>\n",
       "      <td>B00176NOCM</td>\n",
       "      <td>5.0</td>\n",
       "      <td>4.314026</td>\n",
       "      <td>{'was_impossible': True, 'reason': 'User and/o...</td>\n",
       "    </tr>\n",
       "    <tr>\n",
       "      <th>18442</th>\n",
       "      <td>A100UD67AHFODS</td>\n",
       "      <td>B005CLPP8E</td>\n",
       "      <td>5.0</td>\n",
       "      <td>4.750000</td>\n",
       "      <td>{'actual_k': 4, 'was_impossible': False}</td>\n",
       "    </tr>\n",
       "    <tr>\n",
       "      <th>18683</th>\n",
       "      <td>A100UD67AHFODS</td>\n",
       "      <td>B001JIBOLQ</td>\n",
       "      <td>5.0</td>\n",
       "      <td>4.314026</td>\n",
       "      <td>{'was_impossible': True, 'reason': 'User and/o...</td>\n",
       "    </tr>\n",
       "    <tr>\n",
       "      <th>12183</th>\n",
       "      <td>A100UD67AHFODS</td>\n",
       "      <td>B00004Z5M1</td>\n",
       "      <td>5.0</td>\n",
       "      <td>4.500000</td>\n",
       "      <td>{'actual_k': 0, 'was_impossible': False}</td>\n",
       "    </tr>\n",
       "    <tr>\n",
       "      <th>5219</th>\n",
       "      <td>A100UD67AHFODS</td>\n",
       "      <td>B00108UNEY</td>\n",
       "      <td>5.0</td>\n",
       "      <td>5.000000</td>\n",
       "      <td>{'actual_k': 0, 'was_impossible': False}</td>\n",
       "    </tr>\n",
       "    <tr>\n",
       "      <th>10397</th>\n",
       "      <td>A100UD67AHFODS</td>\n",
       "      <td>B004YLCE2S</td>\n",
       "      <td>5.0</td>\n",
       "      <td>5.000000</td>\n",
       "      <td>{'actual_k': 3, 'was_impossible': False}</td>\n",
       "    </tr>\n",
       "    <tr>\n",
       "      <th>5146</th>\n",
       "      <td>A100UD67AHFODS</td>\n",
       "      <td>B0098O9TRO</td>\n",
       "      <td>5.0</td>\n",
       "      <td>4.314026</td>\n",
       "      <td>{'was_impossible': True, 'reason': 'User and/o...</td>\n",
       "    </tr>\n",
       "    <tr>\n",
       "      <th>5108</th>\n",
       "      <td>A100UD67AHFODS</td>\n",
       "      <td>B000Q8UAWY</td>\n",
       "      <td>5.0</td>\n",
       "      <td>4.687500</td>\n",
       "      <td>{'actual_k': 3, 'was_impossible': False}</td>\n",
       "    </tr>\n",
       "    <tr>\n",
       "      <th>11279</th>\n",
       "      <td>A100UD67AHFODS</td>\n",
       "      <td>B009IBXECS</td>\n",
       "      <td>5.0</td>\n",
       "      <td>4.314026</td>\n",
       "      <td>{'was_impossible': True, 'reason': 'User and/o...</td>\n",
       "    </tr>\n",
       "    <tr>\n",
       "      <th>11256</th>\n",
       "      <td>A100UD67AHFODS</td>\n",
       "      <td>B008R3875C</td>\n",
       "      <td>5.0</td>\n",
       "      <td>4.314026</td>\n",
       "      <td>{'was_impossible': True, 'reason': 'User and/o...</td>\n",
       "    </tr>\n",
       "    <tr>\n",
       "      <th>17968</th>\n",
       "      <td>A100UD67AHFODS</td>\n",
       "      <td>B0001D3K8A</td>\n",
       "      <td>5.0</td>\n",
       "      <td>5.000000</td>\n",
       "      <td>{'actual_k': 0, 'was_impossible': False}</td>\n",
       "    </tr>\n",
       "    <tr>\n",
       "      <th>11086</th>\n",
       "      <td>A100UD67AHFODS</td>\n",
       "      <td>B000233WJ6</td>\n",
       "      <td>5.0</td>\n",
       "      <td>3.500000</td>\n",
       "      <td>{'actual_k': 1, 'was_impossible': False}</td>\n",
       "    </tr>\n",
       "    <tr>\n",
       "      <th>18030</th>\n",
       "      <td>A100UD67AHFODS</td>\n",
       "      <td>B004T1YA66</td>\n",
       "      <td>5.0</td>\n",
       "      <td>4.314026</td>\n",
       "      <td>{'was_impossible': True, 'reason': 'User and/o...</td>\n",
       "    </tr>\n",
       "    <tr>\n",
       "      <th>1410</th>\n",
       "      <td>A100UD67AHFODS</td>\n",
       "      <td>B002NU5S02</td>\n",
       "      <td>4.0</td>\n",
       "      <td>4.314026</td>\n",
       "      <td>{'was_impossible': True, 'reason': 'User and/o...</td>\n",
       "    </tr>\n",
       "    <tr>\n",
       "      <th>2650</th>\n",
       "      <td>A100UD67AHFODS</td>\n",
       "      <td>B005LS2FS6</td>\n",
       "      <td>5.0</td>\n",
       "      <td>5.000000</td>\n",
       "      <td>{'actual_k': 0, 'was_impossible': False}</td>\n",
       "    </tr>\n",
       "    <tr>\n",
       "      <th>19823</th>\n",
       "      <td>A100UD67AHFODS</td>\n",
       "      <td>B00HHRP11C</td>\n",
       "      <td>5.0</td>\n",
       "      <td>4.869767</td>\n",
       "      <td>{'actual_k': 5, 'was_impossible': False}</td>\n",
       "    </tr>\n",
       "    <tr>\n",
       "      <th>1970</th>\n",
       "      <td>A100UD67AHFODS</td>\n",
       "      <td>B00133BAKM</td>\n",
       "      <td>5.0</td>\n",
       "      <td>4.314026</td>\n",
       "      <td>{'was_impossible': True, 'reason': 'User and/o...</td>\n",
       "    </tr>\n",
       "    <tr>\n",
       "      <th>4066</th>\n",
       "      <td>A100UD67AHFODS</td>\n",
       "      <td>B004V3KCIM</td>\n",
       "      <td>5.0</td>\n",
       "      <td>4.314026</td>\n",
       "      <td>{'was_impossible': True, 'reason': 'User and/o...</td>\n",
       "    </tr>\n",
       "    <tr>\n",
       "      <th>8778</th>\n",
       "      <td>A100UD67AHFODS</td>\n",
       "      <td>B004YI9NTS</td>\n",
       "      <td>5.0</td>\n",
       "      <td>4.333333</td>\n",
       "      <td>{'actual_k': 2, 'was_impossible': False}</td>\n",
       "    </tr>\n",
       "    <tr>\n",
       "      <th>9273</th>\n",
       "      <td>A100UD67AHFODS</td>\n",
       "      <td>B007QWF9GK</td>\n",
       "      <td>5.0</td>\n",
       "      <td>4.314026</td>\n",
       "      <td>{'was_impossible': True, 'reason': 'User and/o...</td>\n",
       "    </tr>\n",
       "    <tr>\n",
       "      <th>...</th>\n",
       "      <td>...</td>\n",
       "      <td>...</td>\n",
       "      <td>...</td>\n",
       "      <td>...</td>\n",
       "      <td>...</td>\n",
       "    </tr>\n",
       "    <tr>\n",
       "      <th>15666</th>\n",
       "      <td>AZMY6E8B52L2T</td>\n",
       "      <td>B00000J1EQ</td>\n",
       "      <td>5.0</td>\n",
       "      <td>5.000000</td>\n",
       "      <td>{'actual_k': 2, 'was_impossible': False}</td>\n",
       "    </tr>\n",
       "    <tr>\n",
       "      <th>17539</th>\n",
       "      <td>AZMY6E8B52L2T</td>\n",
       "      <td>B0026SKZO0</td>\n",
       "      <td>4.0</td>\n",
       "      <td>3.500000</td>\n",
       "      <td>{'actual_k': 0, 'was_impossible': False}</td>\n",
       "    </tr>\n",
       "    <tr>\n",
       "      <th>12461</th>\n",
       "      <td>AZMY6E8B52L2T</td>\n",
       "      <td>B001TH7GUK</td>\n",
       "      <td>5.0</td>\n",
       "      <td>4.681023</td>\n",
       "      <td>{'actual_k': 8, 'was_impossible': False}</td>\n",
       "    </tr>\n",
       "    <tr>\n",
       "      <th>20900</th>\n",
       "      <td>AZMY6E8B52L2T</td>\n",
       "      <td>B00G500AE0</td>\n",
       "      <td>5.0</td>\n",
       "      <td>4.000000</td>\n",
       "      <td>{'actual_k': 4, 'was_impossible': False}</td>\n",
       "    </tr>\n",
       "    <tr>\n",
       "      <th>10697</th>\n",
       "      <td>AZMY6E8B52L2T</td>\n",
       "      <td>B00DTZYHX4</td>\n",
       "      <td>5.0</td>\n",
       "      <td>5.000000</td>\n",
       "      <td>{'actual_k': 12, 'was_impossible': False}</td>\n",
       "    </tr>\n",
       "    <tr>\n",
       "      <th>15399</th>\n",
       "      <td>AZMY6E8B52L2T</td>\n",
       "      <td>B000T8PTLI</td>\n",
       "      <td>4.0</td>\n",
       "      <td>4.314026</td>\n",
       "      <td>{'was_impossible': True, 'reason': 'User and/o...</td>\n",
       "    </tr>\n",
       "    <tr>\n",
       "      <th>16893</th>\n",
       "      <td>AZMY6E8B52L2T</td>\n",
       "      <td>B00DDH4TYA</td>\n",
       "      <td>5.0</td>\n",
       "      <td>5.000000</td>\n",
       "      <td>{'actual_k': 5, 'was_impossible': False}</td>\n",
       "    </tr>\n",
       "    <tr>\n",
       "      <th>7216</th>\n",
       "      <td>AZMY6E8B52L2T</td>\n",
       "      <td>B003O8682Y</td>\n",
       "      <td>5.0</td>\n",
       "      <td>5.000000</td>\n",
       "      <td>{'actual_k': 0, 'was_impossible': False}</td>\n",
       "    </tr>\n",
       "    <tr>\n",
       "      <th>15725</th>\n",
       "      <td>AZMY6E8B52L2T</td>\n",
       "      <td>B0032OX1N4</td>\n",
       "      <td>4.0</td>\n",
       "      <td>3.000000</td>\n",
       "      <td>{'actual_k': 3, 'was_impossible': False}</td>\n",
       "    </tr>\n",
       "    <tr>\n",
       "      <th>11771</th>\n",
       "      <td>AZMY6E8B52L2T</td>\n",
       "      <td>B00BXAGSRU</td>\n",
       "      <td>5.0</td>\n",
       "      <td>5.000000</td>\n",
       "      <td>{'actual_k': 4, 'was_impossible': False}</td>\n",
       "    </tr>\n",
       "    <tr>\n",
       "      <th>14223</th>\n",
       "      <td>AZMY6E8B52L2T</td>\n",
       "      <td>B00FW6T36Y</td>\n",
       "      <td>5.0</td>\n",
       "      <td>5.000000</td>\n",
       "      <td>{'actual_k': 3, 'was_impossible': False}</td>\n",
       "    </tr>\n",
       "    <tr>\n",
       "      <th>13098</th>\n",
       "      <td>AZMY6E8B52L2T</td>\n",
       "      <td>B001MSU1FS</td>\n",
       "      <td>4.0</td>\n",
       "      <td>5.000000</td>\n",
       "      <td>{'actual_k': 5, 'was_impossible': False}</td>\n",
       "    </tr>\n",
       "    <tr>\n",
       "      <th>10131</th>\n",
       "      <td>AZMY6E8B52L2T</td>\n",
       "      <td>B007M6OZCE</td>\n",
       "      <td>5.0</td>\n",
       "      <td>4.314026</td>\n",
       "      <td>{'was_impossible': True, 'reason': 'User and/o...</td>\n",
       "    </tr>\n",
       "    <tr>\n",
       "      <th>6590</th>\n",
       "      <td>AZMY6E8B52L2T</td>\n",
       "      <td>B00006B82A</td>\n",
       "      <td>5.0</td>\n",
       "      <td>4.314026</td>\n",
       "      <td>{'was_impossible': True, 'reason': 'User and/o...</td>\n",
       "    </tr>\n",
       "    <tr>\n",
       "      <th>5001</th>\n",
       "      <td>AZMY6E8B52L2T</td>\n",
       "      <td>B005FN5DJA</td>\n",
       "      <td>5.0</td>\n",
       "      <td>4.314026</td>\n",
       "      <td>{'was_impossible': True, 'reason': 'User and/o...</td>\n",
       "    </tr>\n",
       "    <tr>\n",
       "      <th>14628</th>\n",
       "      <td>AZMY6E8B52L2T</td>\n",
       "      <td>B004C9P9TM</td>\n",
       "      <td>5.0</td>\n",
       "      <td>5.000000</td>\n",
       "      <td>{'actual_k': 5, 'was_impossible': False}</td>\n",
       "    </tr>\n",
       "    <tr>\n",
       "      <th>16455</th>\n",
       "      <td>AZMY6E8B52L2T</td>\n",
       "      <td>B00EE1WUI6</td>\n",
       "      <td>5.0</td>\n",
       "      <td>4.314026</td>\n",
       "      <td>{'was_impossible': True, 'reason': 'User and/o...</td>\n",
       "    </tr>\n",
       "    <tr>\n",
       "      <th>4205</th>\n",
       "      <td>AZMY6E8B52L2T</td>\n",
       "      <td>B000Z80ICM</td>\n",
       "      <td>4.0</td>\n",
       "      <td>4.213116</td>\n",
       "      <td>{'actual_k': 6, 'was_impossible': False}</td>\n",
       "    </tr>\n",
       "    <tr>\n",
       "      <th>19455</th>\n",
       "      <td>AZMY6E8B52L2T</td>\n",
       "      <td>B003B41XYO</td>\n",
       "      <td>5.0</td>\n",
       "      <td>5.000000</td>\n",
       "      <td>{'actual_k': 2, 'was_impossible': False}</td>\n",
       "    </tr>\n",
       "    <tr>\n",
       "      <th>8573</th>\n",
       "      <td>AZMY6E8B52L2T</td>\n",
       "      <td>B001TH7GUU</td>\n",
       "      <td>5.0</td>\n",
       "      <td>5.000000</td>\n",
       "      <td>{'actual_k': 7, 'was_impossible': False}</td>\n",
       "    </tr>\n",
       "    <tr>\n",
       "      <th>14283</th>\n",
       "      <td>AZMY6E8B52L2T</td>\n",
       "      <td>B00CHH0JF0</td>\n",
       "      <td>5.0</td>\n",
       "      <td>4.662770</td>\n",
       "      <td>{'actual_k': 16, 'was_impossible': False}</td>\n",
       "    </tr>\n",
       "    <tr>\n",
       "      <th>17519</th>\n",
       "      <td>AZMY6E8B52L2T</td>\n",
       "      <td>B002CVHURQ</td>\n",
       "      <td>5.0</td>\n",
       "      <td>4.314026</td>\n",
       "      <td>{'was_impossible': True, 'reason': 'User and/o...</td>\n",
       "    </tr>\n",
       "    <tr>\n",
       "      <th>1401</th>\n",
       "      <td>AZMY6E8B52L2T</td>\n",
       "      <td>B002J46IYW</td>\n",
       "      <td>5.0</td>\n",
       "      <td>5.000000</td>\n",
       "      <td>{'actual_k': 1, 'was_impossible': False}</td>\n",
       "    </tr>\n",
       "    <tr>\n",
       "      <th>2960</th>\n",
       "      <td>AZMY6E8B52L2T</td>\n",
       "      <td>B0041TF4QQ</td>\n",
       "      <td>5.0</td>\n",
       "      <td>5.000000</td>\n",
       "      <td>{'actual_k': 0, 'was_impossible': False}</td>\n",
       "    </tr>\n",
       "    <tr>\n",
       "      <th>19123</th>\n",
       "      <td>AZMY6E8B52L2T</td>\n",
       "      <td>B00DTPYRTI</td>\n",
       "      <td>5.0</td>\n",
       "      <td>4.689168</td>\n",
       "      <td>{'actual_k': 5, 'was_impossible': False}</td>\n",
       "    </tr>\n",
       "    <tr>\n",
       "      <th>17573</th>\n",
       "      <td>AZMY6E8B52L2T</td>\n",
       "      <td>B000OKH7I4</td>\n",
       "      <td>4.0</td>\n",
       "      <td>4.314026</td>\n",
       "      <td>{'was_impossible': True, 'reason': 'User and/o...</td>\n",
       "    </tr>\n",
       "    <tr>\n",
       "      <th>2779</th>\n",
       "      <td>AZMY6E8B52L2T</td>\n",
       "      <td>B0019EHU8G</td>\n",
       "      <td>5.0</td>\n",
       "      <td>3.992676</td>\n",
       "      <td>{'actual_k': 9, 'was_impossible': False}</td>\n",
       "    </tr>\n",
       "    <tr>\n",
       "      <th>3109</th>\n",
       "      <td>AZMY6E8B52L2T</td>\n",
       "      <td>B000NMFCIA</td>\n",
       "      <td>5.0</td>\n",
       "      <td>4.000000</td>\n",
       "      <td>{'actual_k': 0, 'was_impossible': False}</td>\n",
       "    </tr>\n",
       "    <tr>\n",
       "      <th>12932</th>\n",
       "      <td>AZMY6E8B52L2T</td>\n",
       "      <td>B000VX6XL6</td>\n",
       "      <td>5.0</td>\n",
       "      <td>4.774504</td>\n",
       "      <td>{'actual_k': 9, 'was_impossible': False}</td>\n",
       "    </tr>\n",
       "    <tr>\n",
       "      <th>15593</th>\n",
       "      <td>AZMY6E8B52L2T</td>\n",
       "      <td>B00EFE9OAE</td>\n",
       "      <td>5.0</td>\n",
       "      <td>4.104025</td>\n",
       "      <td>{'actual_k': 13, 'was_impossible': False}</td>\n",
       "    </tr>\n",
       "  </tbody>\n",
       "</table>\n",
       "<p>21753 rows × 5 columns</p>\n",
       "</div>"
      ],
      "text/plain": [
       "                  uid         iid  r_ui       est  \\\n",
       "17789  A100UD67AHFODS  B00F0DD0I6   5.0  4.735502   \n",
       "2814   A100UD67AHFODS  B005OA3BSY   5.0  4.500000   \n",
       "16825  A100UD67AHFODS  B004LU1U2M   5.0  4.314026   \n",
       "2801   A100UD67AHFODS  B000LRMS66   5.0  4.689759   \n",
       "8230   A100UD67AHFODS  B000069JWX   1.0  5.000000   \n",
       "17007  A100UD67AHFODS  B00113XADE   5.0  5.000000   \n",
       "8735   A100UD67AHFODS  B002Y6CJJ8   4.0  4.846154   \n",
       "3470   A100UD67AHFODS  B004V3KCJG   1.0  5.000000   \n",
       "1749   A100UD67AHFODS  B001A5FH9S   5.0  4.750000   \n",
       "20451  A100UD67AHFODS  B0082E9K7U   5.0  4.992768   \n",
       "15649  A100UD67AHFODS  B00176NOCM   5.0  4.314026   \n",
       "18442  A100UD67AHFODS  B005CLPP8E   5.0  4.750000   \n",
       "18683  A100UD67AHFODS  B001JIBOLQ   5.0  4.314026   \n",
       "12183  A100UD67AHFODS  B00004Z5M1   5.0  4.500000   \n",
       "5219   A100UD67AHFODS  B00108UNEY   5.0  5.000000   \n",
       "10397  A100UD67AHFODS  B004YLCE2S   5.0  5.000000   \n",
       "5146   A100UD67AHFODS  B0098O9TRO   5.0  4.314026   \n",
       "5108   A100UD67AHFODS  B000Q8UAWY   5.0  4.687500   \n",
       "11279  A100UD67AHFODS  B009IBXECS   5.0  4.314026   \n",
       "11256  A100UD67AHFODS  B008R3875C   5.0  4.314026   \n",
       "17968  A100UD67AHFODS  B0001D3K8A   5.0  5.000000   \n",
       "11086  A100UD67AHFODS  B000233WJ6   5.0  3.500000   \n",
       "18030  A100UD67AHFODS  B004T1YA66   5.0  4.314026   \n",
       "1410   A100UD67AHFODS  B002NU5S02   4.0  4.314026   \n",
       "2650   A100UD67AHFODS  B005LS2FS6   5.0  5.000000   \n",
       "19823  A100UD67AHFODS  B00HHRP11C   5.0  4.869767   \n",
       "1970   A100UD67AHFODS  B00133BAKM   5.0  4.314026   \n",
       "4066   A100UD67AHFODS  B004V3KCIM   5.0  4.314026   \n",
       "8778   A100UD67AHFODS  B004YI9NTS   5.0  4.333333   \n",
       "9273   A100UD67AHFODS  B007QWF9GK   5.0  4.314026   \n",
       "...               ...         ...   ...       ...   \n",
       "15666   AZMY6E8B52L2T  B00000J1EQ   5.0  5.000000   \n",
       "17539   AZMY6E8B52L2T  B0026SKZO0   4.0  3.500000   \n",
       "12461   AZMY6E8B52L2T  B001TH7GUK   5.0  4.681023   \n",
       "20900   AZMY6E8B52L2T  B00G500AE0   5.0  4.000000   \n",
       "10697   AZMY6E8B52L2T  B00DTZYHX4   5.0  5.000000   \n",
       "15399   AZMY6E8B52L2T  B000T8PTLI   4.0  4.314026   \n",
       "16893   AZMY6E8B52L2T  B00DDH4TYA   5.0  5.000000   \n",
       "7216    AZMY6E8B52L2T  B003O8682Y   5.0  5.000000   \n",
       "15725   AZMY6E8B52L2T  B0032OX1N4   4.0  3.000000   \n",
       "11771   AZMY6E8B52L2T  B00BXAGSRU   5.0  5.000000   \n",
       "14223   AZMY6E8B52L2T  B00FW6T36Y   5.0  5.000000   \n",
       "13098   AZMY6E8B52L2T  B001MSU1FS   4.0  5.000000   \n",
       "10131   AZMY6E8B52L2T  B007M6OZCE   5.0  4.314026   \n",
       "6590    AZMY6E8B52L2T  B00006B82A   5.0  4.314026   \n",
       "5001    AZMY6E8B52L2T  B005FN5DJA   5.0  4.314026   \n",
       "14628   AZMY6E8B52L2T  B004C9P9TM   5.0  5.000000   \n",
       "16455   AZMY6E8B52L2T  B00EE1WUI6   5.0  4.314026   \n",
       "4205    AZMY6E8B52L2T  B000Z80ICM   4.0  4.213116   \n",
       "19455   AZMY6E8B52L2T  B003B41XYO   5.0  5.000000   \n",
       "8573    AZMY6E8B52L2T  B001TH7GUU   5.0  5.000000   \n",
       "14283   AZMY6E8B52L2T  B00CHH0JF0   5.0  4.662770   \n",
       "17519   AZMY6E8B52L2T  B002CVHURQ   5.0  4.314026   \n",
       "1401    AZMY6E8B52L2T  B002J46IYW   5.0  5.000000   \n",
       "2960    AZMY6E8B52L2T  B0041TF4QQ   5.0  5.000000   \n",
       "19123   AZMY6E8B52L2T  B00DTPYRTI   5.0  4.689168   \n",
       "17573   AZMY6E8B52L2T  B000OKH7I4   4.0  4.314026   \n",
       "2779    AZMY6E8B52L2T  B0019EHU8G   5.0  3.992676   \n",
       "3109    AZMY6E8B52L2T  B000NMFCIA   5.0  4.000000   \n",
       "12932   AZMY6E8B52L2T  B000VX6XL6   5.0  4.774504   \n",
       "15593   AZMY6E8B52L2T  B00EFE9OAE   5.0  4.104025   \n",
       "\n",
       "                                                 details  \n",
       "17789           {'actual_k': 6, 'was_impossible': False}  \n",
       "2814            {'actual_k': 1, 'was_impossible': False}  \n",
       "16825  {'was_impossible': True, 'reason': 'User and/o...  \n",
       "2801            {'actual_k': 6, 'was_impossible': False}  \n",
       "8230            {'actual_k': 0, 'was_impossible': False}  \n",
       "17007           {'actual_k': 1, 'was_impossible': False}  \n",
       "8735            {'actual_k': 3, 'was_impossible': False}  \n",
       "3470            {'actual_k': 1, 'was_impossible': False}  \n",
       "1749            {'actual_k': 2, 'was_impossible': False}  \n",
       "20451           {'actual_k': 5, 'was_impossible': False}  \n",
       "15649  {'was_impossible': True, 'reason': 'User and/o...  \n",
       "18442           {'actual_k': 4, 'was_impossible': False}  \n",
       "18683  {'was_impossible': True, 'reason': 'User and/o...  \n",
       "12183           {'actual_k': 0, 'was_impossible': False}  \n",
       "5219            {'actual_k': 0, 'was_impossible': False}  \n",
       "10397           {'actual_k': 3, 'was_impossible': False}  \n",
       "5146   {'was_impossible': True, 'reason': 'User and/o...  \n",
       "5108            {'actual_k': 3, 'was_impossible': False}  \n",
       "11279  {'was_impossible': True, 'reason': 'User and/o...  \n",
       "11256  {'was_impossible': True, 'reason': 'User and/o...  \n",
       "17968           {'actual_k': 0, 'was_impossible': False}  \n",
       "11086           {'actual_k': 1, 'was_impossible': False}  \n",
       "18030  {'was_impossible': True, 'reason': 'User and/o...  \n",
       "1410   {'was_impossible': True, 'reason': 'User and/o...  \n",
       "2650            {'actual_k': 0, 'was_impossible': False}  \n",
       "19823           {'actual_k': 5, 'was_impossible': False}  \n",
       "1970   {'was_impossible': True, 'reason': 'User and/o...  \n",
       "4066   {'was_impossible': True, 'reason': 'User and/o...  \n",
       "8778            {'actual_k': 2, 'was_impossible': False}  \n",
       "9273   {'was_impossible': True, 'reason': 'User and/o...  \n",
       "...                                                  ...  \n",
       "15666           {'actual_k': 2, 'was_impossible': False}  \n",
       "17539           {'actual_k': 0, 'was_impossible': False}  \n",
       "12461           {'actual_k': 8, 'was_impossible': False}  \n",
       "20900           {'actual_k': 4, 'was_impossible': False}  \n",
       "10697          {'actual_k': 12, 'was_impossible': False}  \n",
       "15399  {'was_impossible': True, 'reason': 'User and/o...  \n",
       "16893           {'actual_k': 5, 'was_impossible': False}  \n",
       "7216            {'actual_k': 0, 'was_impossible': False}  \n",
       "15725           {'actual_k': 3, 'was_impossible': False}  \n",
       "11771           {'actual_k': 4, 'was_impossible': False}  \n",
       "14223           {'actual_k': 3, 'was_impossible': False}  \n",
       "13098           {'actual_k': 5, 'was_impossible': False}  \n",
       "10131  {'was_impossible': True, 'reason': 'User and/o...  \n",
       "6590   {'was_impossible': True, 'reason': 'User and/o...  \n",
       "5001   {'was_impossible': True, 'reason': 'User and/o...  \n",
       "14628           {'actual_k': 5, 'was_impossible': False}  \n",
       "16455  {'was_impossible': True, 'reason': 'User and/o...  \n",
       "4205            {'actual_k': 6, 'was_impossible': False}  \n",
       "19455           {'actual_k': 2, 'was_impossible': False}  \n",
       "8573            {'actual_k': 7, 'was_impossible': False}  \n",
       "14283          {'actual_k': 16, 'was_impossible': False}  \n",
       "17519  {'was_impossible': True, 'reason': 'User and/o...  \n",
       "1401            {'actual_k': 1, 'was_impossible': False}  \n",
       "2960            {'actual_k': 0, 'was_impossible': False}  \n",
       "19123           {'actual_k': 5, 'was_impossible': False}  \n",
       "17573  {'was_impossible': True, 'reason': 'User and/o...  \n",
       "2779            {'actual_k': 9, 'was_impossible': False}  \n",
       "3109            {'actual_k': 0, 'was_impossible': False}  \n",
       "12932           {'actual_k': 9, 'was_impossible': False}  \n",
       "15593          {'actual_k': 13, 'was_impossible': False}  \n",
       "\n",
       "[21753 rows x 5 columns]"
      ]
     },
     "execution_count": 102,
     "metadata": {},
     "output_type": "execute_result"
    }
   ],
   "source": [
    "pd.DataFrame(test_pred).sort_values(by='uid')"
   ]
  },
  {
   "cell_type": "markdown",
   "metadata": {},
   "source": [
    "<h3>RMSE: user-user based model</h3>"
   ]
  },
  {
   "cell_type": "code",
   "execution_count": 89,
   "metadata": {},
   "outputs": [
    {
     "name": "stdout",
     "output_type": "stream",
     "text": [
      "User-based Model : Test Set\n",
      "RMSE: 0.9529\n"
     ]
    },
    {
     "data": {
      "text/plain": [
       "0.9529448508040527"
      ]
     },
     "execution_count": 89,
     "metadata": {},
     "output_type": "execute_result"
    }
   ],
   "source": [
    "print(\"User-based Model : Test Set\")\n",
    "accuracy.rmse(test_pred, verbose=True)"
   ]
  },
  {
   "cell_type": "code",
   "execution_count": 90,
   "metadata": {},
   "outputs": [
    {
     "name": "stdout",
     "output_type": "stream",
     "text": [
      "user: A3TAS1AG6FMBQW item: B0001VGFKW r_ui = None   est = 4.60   {'actual_k': 1, 'was_impossible': False}\n"
     ]
    }
   ],
   "source": [
    "pred = User_based_recomendationAlgorithm.predict('A3TAS1AG6FMBQW', 'B0001VGFKW', verbose=True)"
   ]
  },
  {
   "cell_type": "markdown",
   "metadata": {},
   "source": [
    "<h4>We observe that we have a better score at the user-based Model(0.952) compared to the Item-based model(1.0922) </h4>"
   ]
  },
  {
   "cell_type": "code",
   "execution_count": null,
   "metadata": {},
   "outputs": [],
   "source": []
  }
 ],
 "metadata": {
  "kernelspec": {
   "display_name": "Python 3",
   "language": "python",
   "name": "python3"
  },
  "language_info": {
   "codemirror_mode": {
    "name": "ipython",
    "version": 3
   },
   "file_extension": ".py",
   "mimetype": "text/x-python",
   "name": "python",
   "nbconvert_exporter": "python",
   "pygments_lexer": "ipython3",
   "version": "3.6.8"
  }
 },
 "nbformat": 4,
 "nbformat_minor": 2
}
